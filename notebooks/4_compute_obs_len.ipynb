{
 "cells": [
  {
   "cell_type": "code",
   "execution_count": null,
   "metadata": {},
   "outputs": [],
   "source": [
    "import pandas as pd\n",
    "\n",
    "data = pd.read_csv('data/raw/m5/sales_train_evaluation.csv')"
   ]
  },
  {
   "cell_type": "code",
   "execution_count": null,
   "metadata": {},
   "outputs": [],
   "source": [
    "data.iloc[:, 6:]"
   ]
  },
  {
   "cell_type": "code",
   "execution_count": null,
   "metadata": {},
   "outputs": [],
   "source": [
    "nan_values = data.isna().sum().sum()\n",
    "print(\"Number of NaN values:\", nan_values)"
   ]
  },
  {
   "cell_type": "code",
   "execution_count": null,
   "metadata": {},
   "outputs": [],
   "source": [
    "data.shape[0]*data.shape[1] - nan_values"
   ]
  },
  {
   "cell_type": "code",
   "execution_count": null,
   "metadata": {},
   "outputs": [],
   "source": [
    "data.isna().sum(axis=1) "
   ]
  },
  {
   "cell_type": "code",
   "execution_count": null,
   "metadata": {},
   "outputs": [],
   "source": [
    "import numpy as np\n",
    "(data != np.nan).sum().sum()"
   ]
  },
  {
   "cell_type": "code",
   "execution_count": null,
   "metadata": {},
   "outputs": [],
   "source": [
    "(~data.isna()).sum().sum()"
   ]
  },
  {
   "cell_type": "code",
   "execution_count": null,
   "metadata": {},
   "outputs": [],
   "source": [
    "(10430411-16*data.shape[0])/128"
   ]
  },
  {
   "cell_type": "code",
   "execution_count": 1,
   "metadata": {},
   "outputs": [
    {
     "name": "stdout",
     "output_type": "stream",
     "text": [
      "/Users/vittorio/Vega/research/llms-for-ts\n"
     ]
    },
    {
     "name": "stderr",
     "output_type": "stream",
     "text": [
      "/Users/vittorio/Library/Caches/pypoetry/virtualenvs/llms-for-ts-nVlTfn4V-py3.9/lib/python3.9/site-packages/IPython/core/magics/osm.py:417: UserWarning: using dhist requires you to install the `pickleshare` library.\n",
      "  self.shell.db['dhist'] = compress_dhist(dhist)[-100:]\n"
     ]
    }
   ],
   "source": [
    "%cd .."
   ]
  },
  {
   "cell_type": "code",
   "execution_count": 2,
   "metadata": {},
   "outputs": [],
   "source": [
    "from src.features import DATASET_LOADERS"
   ]
  },
  {
   "cell_type": "code",
   "execution_count": 68,
   "metadata": {},
   "outputs": [],
   "source": [
    "dt_loader = DATASET_LOADERS['M4-month'].process('base',batch_size = 64, target_size=1, window_size=15, chunksize = 10)"
   ]
  },
  {
   "cell_type": "code",
   "execution_count": 69,
   "metadata": {},
   "outputs": [
    {
     "ename": "KeyboardInterrupt",
     "evalue": "",
     "output_type": "error",
     "traceback": [
      "\u001b[0;31m---------------------------------------------------------------------------\u001b[0m",
      "\u001b[0;31mKeyboardInterrupt\u001b[0m                         Traceback (most recent call last)",
      "Cell \u001b[0;32mIn[69], line 2\u001b[0m\n\u001b[1;32m      1\u001b[0m count \u001b[38;5;241m=\u001b[39m \u001b[38;5;241m0\u001b[39m\n\u001b[0;32m----> 2\u001b[0m \u001b[38;5;28;01mfor\u001b[39;00m dt \u001b[38;5;129;01min\u001b[39;00m dt_loader:\n\u001b[1;32m      3\u001b[0m     count \u001b[38;5;241m+\u001b[39m\u001b[38;5;241m=\u001b[39m \u001b[38;5;241m1\u001b[39m\n\u001b[1;32m      4\u001b[0m     \u001b[38;5;28;01mif\u001b[39;00m count \u001b[38;5;241m>\u001b[39m \u001b[38;5;241m1_000\u001b[39m:\n",
      "File \u001b[0;32m~/Vega/research/llms-for-ts/src/features/datasets.py:90\u001b[0m, in \u001b[0;36mM4Dataset.process\u001b[0;34m(self, promt_name, batch_size, chunksize, **kwargs)\u001b[0m\n\u001b[1;32m     88\u001b[0m \u001b[38;5;28;01mfor\u001b[39;00m chunk \u001b[38;5;129;01min\u001b[39;00m chunks:\n\u001b[1;32m     89\u001b[0m     chunk \u001b[38;5;241m=\u001b[39m chunk\u001b[38;5;241m.\u001b[39mmelt(id_vars\u001b[38;5;241m=\u001b[39m[\u001b[38;5;124m'\u001b[39m\u001b[38;5;124mV1\u001b[39m\u001b[38;5;124m'\u001b[39m], var_name\u001b[38;5;241m=\u001b[39m\u001b[38;5;124m'\u001b[39m\u001b[38;5;124md\u001b[39m\u001b[38;5;124m'\u001b[39m, value_name\u001b[38;5;241m=\u001b[39m\u001b[38;5;124m'\u001b[39m\u001b[38;5;124mtarget\u001b[39m\u001b[38;5;124m'\u001b[39m)\n\u001b[0;32m---> 90\u001b[0m     X,y \u001b[38;5;241m=\u001b[39m \u001b[43mutils\u001b[49m\u001b[38;5;241;43m.\u001b[39;49m\u001b[43mprocess_dataset\u001b[49m\u001b[43m(\u001b[49m\u001b[43mchunk\u001b[49m\u001b[43m,\u001b[49m\u001b[43m \u001b[49m\u001b[43mpromt_name\u001b[49m\u001b[43m,\u001b[49m\u001b[43m \u001b[49m\u001b[38;5;241;43m*\u001b[39;49m\u001b[38;5;241;43m*\u001b[39;49m\u001b[43mconfig\u001b[49m\u001b[43m)\u001b[49m\n\u001b[1;32m     91\u001b[0m     \u001b[38;5;28;01mfor\u001b[39;00m batch \u001b[38;5;129;01min\u001b[39;00m utils\u001b[38;5;241m.\u001b[39mcreate_batches(X, y, batch_size):\n\u001b[1;32m     92\u001b[0m         \u001b[38;5;28;01myield\u001b[39;00m batch\n",
      "File \u001b[0;32m~/Vega/research/llms-for-ts/src/features/utils.py:138\u001b[0m, in \u001b[0;36mprocess_dataset\u001b[0;34m(dataset, prompt_name, window_size, target_size, target, ts_features, metadata, *args, **kwargs)\u001b[0m\n\u001b[1;32m    129\u001b[0m     \u001b[38;5;28;01melse\u001b[39;00m:\n\u001b[1;32m    130\u001b[0m         \u001b[38;5;66;03m# If the array is entirely NaNs, return an empty array\u001b[39;00m\n\u001b[1;32m    131\u001b[0m         \u001b[38;5;28;01mreturn\u001b[39;00m np\u001b[38;5;241m.\u001b[39marray([], dtype\u001b[38;5;241m=\u001b[39marray\u001b[38;5;241m.\u001b[39mdtype)\n\u001b[1;32m    133\u001b[0m \u001b[38;5;28;01mdef\u001b[39;00m \u001b[38;5;21mprocess_dataset\u001b[39m(dataset: pd\u001b[38;5;241m.\u001b[39mDataFrame,\n\u001b[1;32m    134\u001b[0m                     prompt_name: \u001b[38;5;28mstr\u001b[39m, \n\u001b[1;32m    135\u001b[0m                     window_size:\u001b[38;5;28mint\u001b[39m, \n\u001b[1;32m    136\u001b[0m                     target_size: \u001b[38;5;28mint\u001b[39m,\n\u001b[1;32m    137\u001b[0m                     target:\u001b[38;5;28mstr\u001b[39m,\n\u001b[0;32m--> 138\u001b[0m                     ts_features: List[\u001b[38;5;28mstr\u001b[39m] \u001b[38;5;241m=\u001b[39m [],\n\u001b[1;32m    139\u001b[0m                     metadata: List[\u001b[38;5;28mstr\u001b[39m] \u001b[38;5;241m=\u001b[39m [],\n\u001b[1;32m    140\u001b[0m                     \u001b[38;5;241m*\u001b[39margs,\n\u001b[1;32m    141\u001b[0m                     \u001b[38;5;241m*\u001b[39m\u001b[38;5;241m*\u001b[39mkwargs) \u001b[38;5;241m-\u001b[39m\u001b[38;5;241m>\u001b[39m List[Tuple[\u001b[38;5;28mstr\u001b[39m, np\u001b[38;5;241m.\u001b[39mndarray]]:\n\u001b[1;32m    142\u001b[0m \u001b[38;5;250m    \u001b[39m\u001b[38;5;124;03m\"\"\"\u001b[39;00m\n\u001b[1;32m    143\u001b[0m \u001b[38;5;124;03m    This function takes in a dataset, a prompt name, window size, target size, and optional parameters\u001b[39;00m\n\u001b[1;32m    144\u001b[0m \u001b[38;5;124;03m    and returns a processed dataset ready to be passed to the model.\u001b[39;00m\n\u001b[0;32m   (...)\u001b[0m\n\u001b[1;32m    155\u001b[0m \u001b[38;5;124;03m    pd.DataFrame: The processed dataset.\u001b[39;00m\n\u001b[1;32m    156\u001b[0m \u001b[38;5;124;03m    \"\"\"\u001b[39;00m\n\u001b[1;32m    157\u001b[0m     \u001b[38;5;66;03m# load the prompt\u001b[39;00m\n",
      "File \u001b[0;32m~/Vega/research/llms-for-ts/src/features/utils.py:98\u001b[0m, in \u001b[0;36m_create_observations_w_ft_and_meta\u001b[0;34m(df, target, ts_features, metadata, window_size, target_size)\u001b[0m\n\u001b[1;32m     94\u001b[0m         df \u001b[38;5;241m=\u001b[39m df\u001b[38;5;241m.\u001b[39mloc[first_non_zero_index:last_non_zero_index]\n\u001b[1;32m     96\u001b[0m     \u001b[38;5;28;01mreturn\u001b[39;00m df\n\u001b[0;32m---> 98\u001b[0m \u001b[38;5;28;01mdef\u001b[39;00m \u001b[38;5;21m_create_observations_w_ft_and_meta\u001b[39m(df: pd\u001b[38;5;241m.\u001b[39mDataFrame, target: \u001b[38;5;28mstr\u001b[39m, ts_features: List[\u001b[38;5;28mstr\u001b[39m], metadata:List[\u001b[38;5;28mstr\u001b[39m], window_size: \u001b[38;5;28mint\u001b[39m \u001b[38;5;241m=\u001b[39m \u001b[38;5;241m24\u001b[39m, target_size: \u001b[38;5;28mint\u001b[39m \u001b[38;5;241m=\u001b[39m \u001b[38;5;241m1\u001b[39m) \u001b[38;5;241m-\u001b[39m\u001b[38;5;241m>\u001b[39m List[Observation]:\n\u001b[1;32m     99\u001b[0m \u001b[38;5;250m    \u001b[39m\u001b[38;5;124;03m\"\"\"\u001b[39;00m\n\u001b[1;32m    100\u001b[0m \u001b[38;5;124;03m    Create an observation object with time series features.\u001b[39;00m\n\u001b[1;32m    101\u001b[0m \n\u001b[0;32m   (...)\u001b[0m\n\u001b[1;32m    110\u001b[0m \u001b[38;5;124;03m        Observation: An observation object containing the input features (X) and target variable (y).\u001b[39;00m\n\u001b[1;32m    111\u001b[0m \u001b[38;5;124;03m    \"\"\"\u001b[39;00m\n\u001b[1;32m    112\u001b[0m     \u001b[38;5;66;03m# remove leading and trailing nans from the target and adjust the dataset accordingly\u001b[39;00m\n",
      "File \u001b[0;32m~/Vega/research/llms-for-ts/src/features/utils.py:98\u001b[0m, in \u001b[0;36m<listcomp>\u001b[0;34m(.0)\u001b[0m\n\u001b[1;32m     94\u001b[0m         df \u001b[38;5;241m=\u001b[39m df\u001b[38;5;241m.\u001b[39mloc[first_non_zero_index:last_non_zero_index]\n\u001b[1;32m     96\u001b[0m     \u001b[38;5;28;01mreturn\u001b[39;00m df\n\u001b[0;32m---> 98\u001b[0m \u001b[38;5;28;01mdef\u001b[39;00m \u001b[38;5;21m_create_observations_w_ft_and_meta\u001b[39m(df: pd\u001b[38;5;241m.\u001b[39mDataFrame, target: \u001b[38;5;28mstr\u001b[39m, ts_features: List[\u001b[38;5;28mstr\u001b[39m], metadata:List[\u001b[38;5;28mstr\u001b[39m], window_size: \u001b[38;5;28mint\u001b[39m \u001b[38;5;241m=\u001b[39m \u001b[38;5;241m24\u001b[39m, target_size: \u001b[38;5;28mint\u001b[39m \u001b[38;5;241m=\u001b[39m \u001b[38;5;241m1\u001b[39m) \u001b[38;5;241m-\u001b[39m\u001b[38;5;241m>\u001b[39m List[Observation]:\n\u001b[1;32m     99\u001b[0m \u001b[38;5;250m    \u001b[39m\u001b[38;5;124;03m\"\"\"\u001b[39;00m\n\u001b[1;32m    100\u001b[0m \u001b[38;5;124;03m    Create an observation object with time series features.\u001b[39;00m\n\u001b[1;32m    101\u001b[0m \n\u001b[0;32m   (...)\u001b[0m\n\u001b[1;32m    110\u001b[0m \u001b[38;5;124;03m        Observation: An observation object containing the input features (X) and target variable (y).\u001b[39;00m\n\u001b[1;32m    111\u001b[0m \u001b[38;5;124;03m    \"\"\"\u001b[39;00m\n\u001b[1;32m    112\u001b[0m     \u001b[38;5;66;03m# remove leading and trailing nans from the target and adjust the dataset accordingly\u001b[39;00m\n",
      "File \u001b[0;32m~/Vega/research/llms-for-ts/src/features/utils.py:98\u001b[0m, in \u001b[0;36m<dictcomp>\u001b[0;34m(.0)\u001b[0m\n\u001b[1;32m     94\u001b[0m         df \u001b[38;5;241m=\u001b[39m df\u001b[38;5;241m.\u001b[39mloc[first_non_zero_index:last_non_zero_index]\n\u001b[1;32m     96\u001b[0m     \u001b[38;5;28;01mreturn\u001b[39;00m df\n\u001b[0;32m---> 98\u001b[0m \u001b[38;5;28;01mdef\u001b[39;00m \u001b[38;5;21m_create_observations_w_ft_and_meta\u001b[39m(df: pd\u001b[38;5;241m.\u001b[39mDataFrame, target: \u001b[38;5;28mstr\u001b[39m, ts_features: List[\u001b[38;5;28mstr\u001b[39m], metadata:List[\u001b[38;5;28mstr\u001b[39m], window_size: \u001b[38;5;28mint\u001b[39m \u001b[38;5;241m=\u001b[39m \u001b[38;5;241m24\u001b[39m, target_size: \u001b[38;5;28mint\u001b[39m \u001b[38;5;241m=\u001b[39m \u001b[38;5;241m1\u001b[39m) \u001b[38;5;241m-\u001b[39m\u001b[38;5;241m>\u001b[39m List[Observation]:\n\u001b[1;32m     99\u001b[0m \u001b[38;5;250m    \u001b[39m\u001b[38;5;124;03m\"\"\"\u001b[39;00m\n\u001b[1;32m    100\u001b[0m \u001b[38;5;124;03m    Create an observation object with time series features.\u001b[39;00m\n\u001b[1;32m    101\u001b[0m \n\u001b[0;32m   (...)\u001b[0m\n\u001b[1;32m    110\u001b[0m \u001b[38;5;124;03m        Observation: An observation object containing the input features (X) and target variable (y).\u001b[39;00m\n\u001b[1;32m    111\u001b[0m \u001b[38;5;124;03m    \"\"\"\u001b[39;00m\n\u001b[1;32m    112\u001b[0m     \u001b[38;5;66;03m# remove leading and trailing nans from the target and adjust the dataset accordingly\u001b[39;00m\n",
      "File \u001b[0;32m~/Library/Caches/pypoetry/virtualenvs/llms-for-ts-nVlTfn4V-py3.9/lib/python3.9/site-packages/pandas/core/indexing.py:1191\u001b[0m, in \u001b[0;36m_LocationIndexer.__getitem__\u001b[0;34m(self, key)\u001b[0m\n\u001b[1;32m   1189\u001b[0m maybe_callable \u001b[38;5;241m=\u001b[39m com\u001b[38;5;241m.\u001b[39mapply_if_callable(key, \u001b[38;5;28mself\u001b[39m\u001b[38;5;241m.\u001b[39mobj)\n\u001b[1;32m   1190\u001b[0m maybe_callable \u001b[38;5;241m=\u001b[39m \u001b[38;5;28mself\u001b[39m\u001b[38;5;241m.\u001b[39m_check_deprecated_callable_usage(key, maybe_callable)\n\u001b[0;32m-> 1191\u001b[0m \u001b[38;5;28;01mreturn\u001b[39;00m \u001b[38;5;28;43mself\u001b[39;49m\u001b[38;5;241;43m.\u001b[39;49m\u001b[43m_getitem_axis\u001b[49m\u001b[43m(\u001b[49m\u001b[43mmaybe_callable\u001b[49m\u001b[43m,\u001b[49m\u001b[43m \u001b[49m\u001b[43maxis\u001b[49m\u001b[38;5;241;43m=\u001b[39;49m\u001b[43maxis\u001b[49m\u001b[43m)\u001b[49m\n",
      "File \u001b[0;32m~/Library/Caches/pypoetry/virtualenvs/llms-for-ts-nVlTfn4V-py3.9/lib/python3.9/site-packages/pandas/core/indexing.py:1729\u001b[0m, in \u001b[0;36m_iLocIndexer._getitem_axis\u001b[0;34m(self, key, axis)\u001b[0m\n\u001b[1;32m   1723\u001b[0m     \u001b[38;5;28;01mraise\u001b[39;00m \u001b[38;5;167;01mIndexError\u001b[39;00m(\n\u001b[1;32m   1724\u001b[0m         \u001b[38;5;124m\"\u001b[39m\u001b[38;5;124mDataFrame indexer is not allowed for .iloc\u001b[39m\u001b[38;5;130;01m\\n\u001b[39;00m\u001b[38;5;124m\"\u001b[39m\n\u001b[1;32m   1725\u001b[0m         \u001b[38;5;124m\"\u001b[39m\u001b[38;5;124mConsider using .loc for automatic alignment.\u001b[39m\u001b[38;5;124m\"\u001b[39m\n\u001b[1;32m   1726\u001b[0m     )\n\u001b[1;32m   1728\u001b[0m \u001b[38;5;28;01mif\u001b[39;00m \u001b[38;5;28misinstance\u001b[39m(key, \u001b[38;5;28mslice\u001b[39m):\n\u001b[0;32m-> 1729\u001b[0m     \u001b[38;5;28;01mreturn\u001b[39;00m \u001b[38;5;28;43mself\u001b[39;49m\u001b[38;5;241;43m.\u001b[39;49m\u001b[43m_get_slice_axis\u001b[49m\u001b[43m(\u001b[49m\u001b[43mkey\u001b[49m\u001b[43m,\u001b[49m\u001b[43m \u001b[49m\u001b[43maxis\u001b[49m\u001b[38;5;241;43m=\u001b[39;49m\u001b[43maxis\u001b[49m\u001b[43m)\u001b[49m\n\u001b[1;32m   1731\u001b[0m \u001b[38;5;28;01mif\u001b[39;00m is_iterator(key):\n\u001b[1;32m   1732\u001b[0m     key \u001b[38;5;241m=\u001b[39m \u001b[38;5;28mlist\u001b[39m(key)\n",
      "File \u001b[0;32m~/Library/Caches/pypoetry/virtualenvs/llms-for-ts-nVlTfn4V-py3.9/lib/python3.9/site-packages/pandas/core/indexing.py:1765\u001b[0m, in \u001b[0;36m_iLocIndexer._get_slice_axis\u001b[0;34m(self, slice_obj, axis)\u001b[0m\n\u001b[1;32m   1763\u001b[0m labels \u001b[38;5;241m=\u001b[39m obj\u001b[38;5;241m.\u001b[39m_get_axis(axis)\n\u001b[1;32m   1764\u001b[0m labels\u001b[38;5;241m.\u001b[39m_validate_positional_slice(slice_obj)\n\u001b[0;32m-> 1765\u001b[0m \u001b[38;5;28;01mreturn\u001b[39;00m \u001b[38;5;28;43mself\u001b[39;49m\u001b[38;5;241;43m.\u001b[39;49m\u001b[43mobj\u001b[49m\u001b[38;5;241;43m.\u001b[39;49m\u001b[43m_slice\u001b[49m\u001b[43m(\u001b[49m\u001b[43mslice_obj\u001b[49m\u001b[43m,\u001b[49m\u001b[43m \u001b[49m\u001b[43maxis\u001b[49m\u001b[38;5;241;43m=\u001b[39;49m\u001b[43maxis\u001b[49m\u001b[43m)\u001b[49m\n",
      "File \u001b[0;32m~/Library/Caches/pypoetry/virtualenvs/llms-for-ts-nVlTfn4V-py3.9/lib/python3.9/site-packages/pandas/core/series.py:1090\u001b[0m, in \u001b[0;36mSeries._slice\u001b[0;34m(self, slobj, axis)\u001b[0m\n\u001b[1;32m   1087\u001b[0m \u001b[38;5;28;01mdef\u001b[39;00m \u001b[38;5;21m_slice\u001b[39m(\u001b[38;5;28mself\u001b[39m, slobj: \u001b[38;5;28mslice\u001b[39m, axis: AxisInt \u001b[38;5;241m=\u001b[39m \u001b[38;5;241m0\u001b[39m) \u001b[38;5;241m-\u001b[39m\u001b[38;5;241m>\u001b[39m Series:\n\u001b[1;32m   1088\u001b[0m     \u001b[38;5;66;03m# axis kwarg is retained for compat with NDFrame method\u001b[39;00m\n\u001b[1;32m   1089\u001b[0m     \u001b[38;5;66;03m#  _slice is *always* positional\u001b[39;00m\n\u001b[0;32m-> 1090\u001b[0m     mgr \u001b[38;5;241m=\u001b[39m \u001b[38;5;28;43mself\u001b[39;49m\u001b[38;5;241;43m.\u001b[39;49m\u001b[43m_mgr\u001b[49m\u001b[38;5;241;43m.\u001b[39;49m\u001b[43mget_slice\u001b[49m\u001b[43m(\u001b[49m\u001b[43mslobj\u001b[49m\u001b[43m,\u001b[49m\u001b[43m \u001b[49m\u001b[43maxis\u001b[49m\u001b[38;5;241;43m=\u001b[39;49m\u001b[43maxis\u001b[49m\u001b[43m)\u001b[49m\n\u001b[1;32m   1091\u001b[0m     out \u001b[38;5;241m=\u001b[39m \u001b[38;5;28mself\u001b[39m\u001b[38;5;241m.\u001b[39m_constructor_from_mgr(mgr, axes\u001b[38;5;241m=\u001b[39mmgr\u001b[38;5;241m.\u001b[39maxes)\n\u001b[1;32m   1092\u001b[0m     out\u001b[38;5;241m.\u001b[39m_name \u001b[38;5;241m=\u001b[39m \u001b[38;5;28mself\u001b[39m\u001b[38;5;241m.\u001b[39m_name\n",
      "File \u001b[0;32m~/Library/Caches/pypoetry/virtualenvs/llms-for-ts-nVlTfn4V-py3.9/lib/python3.9/site-packages/pandas/core/internals/managers.py:1982\u001b[0m, in \u001b[0;36mSingleBlockManager.get_slice\u001b[0;34m(self, slobj, axis)\u001b[0m\n\u001b[1;32m   1980\u001b[0m blk \u001b[38;5;241m=\u001b[39m \u001b[38;5;28mself\u001b[39m\u001b[38;5;241m.\u001b[39m_block\n\u001b[1;32m   1981\u001b[0m array \u001b[38;5;241m=\u001b[39m blk\u001b[38;5;241m.\u001b[39mvalues[slobj]\n\u001b[0;32m-> 1982\u001b[0m bp \u001b[38;5;241m=\u001b[39m \u001b[43mBlockPlacement\u001b[49m\u001b[43m(\u001b[49m\u001b[38;5;28;43mslice\u001b[39;49m\u001b[43m(\u001b[49m\u001b[38;5;241;43m0\u001b[39;49m\u001b[43m,\u001b[49m\u001b[43m \u001b[49m\u001b[38;5;28;43mlen\u001b[39;49m\u001b[43m(\u001b[49m\u001b[43marray\u001b[49m\u001b[43m)\u001b[49m\u001b[43m)\u001b[49m\u001b[43m)\u001b[49m\n\u001b[1;32m   1983\u001b[0m \u001b[38;5;66;03m# TODO this method is only used in groupby SeriesSplitter at the moment,\u001b[39;00m\n\u001b[1;32m   1984\u001b[0m \u001b[38;5;66;03m# so passing refs is not yet covered by the tests\u001b[39;00m\n\u001b[1;32m   1985\u001b[0m block \u001b[38;5;241m=\u001b[39m \u001b[38;5;28mtype\u001b[39m(blk)(array, placement\u001b[38;5;241m=\u001b[39mbp, ndim\u001b[38;5;241m=\u001b[39m\u001b[38;5;241m1\u001b[39m, refs\u001b[38;5;241m=\u001b[39mblk\u001b[38;5;241m.\u001b[39mrefs)\n",
      "\u001b[0;31mKeyboardInterrupt\u001b[0m: "
     ]
    }
   ],
   "source": [
    "count = 0\n",
    "for dt in dt_loader:\n",
    "    count += 1\n",
    "    if count > 1_000:\n",
    "        break"
   ]
  },
  {
   "cell_type": "code",
   "execution_count": 65,
   "metadata": {},
   "outputs": [
    {
     "data": {
      "text/plain": [
       "(['4860.0 5430.0 5700.0 6590.0 7230.0 6540.0 6520.0 6620.0 7580.0 8030.0 8370.0 8410.0 8700.0 8910.0 9150.0 ',\n",
       "  '5430.0 5700.0 6590.0 7230.0 6540.0 6520.0 6620.0 7580.0 8030.0 8370.0 8410.0 8700.0 8910.0 9150.0 10250.0 ',\n",
       "  '5700.0 6590.0 7230.0 6540.0 6520.0 6620.0 7580.0 8030.0 8370.0 8410.0 8700.0 8910.0 9150.0 10250.0 10060.0 ',\n",
       "  '6590.0 7230.0 6540.0 6520.0 6620.0 7580.0 8030.0 8370.0 8410.0 8700.0 8910.0 9150.0 10250.0 10060.0 9450.0 ',\n",
       "  '7230.0 6540.0 6520.0 6620.0 7580.0 8030.0 8370.0 8410.0 8700.0 8910.0 9150.0 10250.0 10060.0 9450.0 8990.0 ',\n",
       "  '6540.0 6520.0 6620.0 7580.0 8030.0 8370.0 8410.0 8700.0 8910.0 9150.0 10250.0 10060.0 9450.0 8990.0 8890.0 ',\n",
       "  '6520.0 6620.0 7580.0 8030.0 8370.0 8410.0 8700.0 8910.0 9150.0 10250.0 10060.0 9450.0 8990.0 8890.0 8280.0 ',\n",
       "  '6620.0 7580.0 8030.0 8370.0 8410.0 8700.0 8910.0 9150.0 10250.0 10060.0 9450.0 8990.0 8890.0 8280.0 8180.0 ',\n",
       "  '7580.0 8030.0 8370.0 8410.0 8700.0 8910.0 9150.0 10250.0 10060.0 9450.0 8990.0 8890.0 8280.0 8180.0 8210.0 ',\n",
       "  '8030.0 8370.0 8410.0 8700.0 8910.0 9150.0 10250.0 10060.0 9450.0 8990.0 8890.0 8280.0 8180.0 8210.0 8320.0 ',\n",
       "  '8370.0 8410.0 8700.0 8910.0 9150.0 10250.0 10060.0 9450.0 8990.0 8890.0 8280.0 8180.0 8210.0 8320.0 7860.0 ',\n",
       "  '8410.0 8700.0 8910.0 9150.0 10250.0 10060.0 9450.0 8990.0 8890.0 8280.0 8180.0 8210.0 8320.0 7860.0 8100.0 ',\n",
       "  '8700.0 8910.0 9150.0 10250.0 10060.0 9450.0 8990.0 8890.0 8280.0 8180.0 8210.0 8320.0 7860.0 8100.0 8310.0 ',\n",
       "  '8910.0 9150.0 10250.0 10060.0 9450.0 8990.0 8890.0 8280.0 8180.0 8210.0 8320.0 7860.0 8100.0 8310.0 8570.0 ',\n",
       "  '9150.0 10250.0 10060.0 9450.0 8990.0 8890.0 8280.0 8180.0 8210.0 8320.0 7860.0 8100.0 8310.0 8570.0 8380.0 ',\n",
       "  '10250.0 10060.0 9450.0 8990.0 8890.0 8280.0 8180.0 8210.0 8320.0 7860.0 8100.0 8310.0 8570.0 8380.0 7950.0 ',\n",
       "  '10060.0 9450.0 8990.0 8890.0 8280.0 8180.0 8210.0 8320.0 7860.0 8100.0 8310.0 8570.0 8380.0 7950.0 7900.0 ',\n",
       "  '9450.0 8990.0 8890.0 8280.0 8180.0 8210.0 8320.0 7860.0 8100.0 8310.0 8570.0 8380.0 7950.0 7900.0 8160.0 ',\n",
       "  '8990.0 8890.0 8280.0 8180.0 8210.0 8320.0 7860.0 8100.0 8310.0 8570.0 8380.0 7950.0 7900.0 8160.0 8210.0 ',\n",
       "  '8890.0 8280.0 8180.0 8210.0 8320.0 7860.0 8100.0 8310.0 8570.0 8380.0 7950.0 7900.0 8160.0 8210.0 8080.0 ',\n",
       "  '8280.0 8180.0 8210.0 8320.0 7860.0 8100.0 8310.0 8570.0 8380.0 7950.0 7900.0 8160.0 8210.0 8080.0 8100.0 ',\n",
       "  '8180.0 8210.0 8320.0 7860.0 8100.0 8310.0 8570.0 8380.0 7950.0 7900.0 8160.0 8210.0 8080.0 8100.0 8050.0 ',\n",
       "  '8210.0 8320.0 7860.0 8100.0 8310.0 8570.0 8380.0 7950.0 7900.0 8160.0 8210.0 8080.0 8100.0 8050.0 8480.0 ',\n",
       "  '8320.0 7860.0 8100.0 8310.0 8570.0 8380.0 7950.0 7900.0 8160.0 8210.0 8080.0 8100.0 8050.0 8480.0 8760.0 ',\n",
       "  '7860.0 8100.0 8310.0 8570.0 8380.0 7950.0 7900.0 8160.0 8210.0 8080.0 8100.0 8050.0 8480.0 8760.0 9410.0 ',\n",
       "  '8100.0 8310.0 8570.0 8380.0 7950.0 7900.0 8160.0 8210.0 8080.0 8100.0 8050.0 8480.0 8760.0 9410.0 9680.0 ',\n",
       "  '8310.0 8570.0 8380.0 7950.0 7900.0 8160.0 8210.0 8080.0 8100.0 8050.0 8480.0 8760.0 9410.0 9680.0 9330.0 ',\n",
       "  '8570.0 8380.0 7950.0 7900.0 8160.0 8210.0 8080.0 8100.0 8050.0 8480.0 8760.0 9410.0 9680.0 9330.0 8380.0 ',\n",
       "  '8380.0 7950.0 7900.0 8160.0 8210.0 8080.0 8100.0 8050.0 8480.0 8760.0 9410.0 9680.0 9330.0 8380.0 7420.0 ',\n",
       "  '7950.0 7900.0 8160.0 8210.0 8080.0 8100.0 8050.0 8480.0 8760.0 9410.0 9680.0 9330.0 8380.0 7420.0 6660.0 ',\n",
       "  '7900.0 8160.0 8210.0 8080.0 8100.0 8050.0 8480.0 8760.0 9410.0 9680.0 9330.0 8380.0 7420.0 6660.0 6770.0 ',\n",
       "  '8160.0 8210.0 8080.0 8100.0 8050.0 8480.0 8760.0 9410.0 9680.0 9330.0 8380.0 7420.0 6660.0 6770.0 6860.0 ',\n",
       "  '8210.0 8080.0 8100.0 8050.0 8480.0 8760.0 9410.0 9680.0 9330.0 8380.0 7420.0 6660.0 6770.0 6860.0 7200.0 ',\n",
       "  '8080.0 8100.0 8050.0 8480.0 8760.0 9410.0 9680.0 9330.0 8380.0 7420.0 6660.0 6770.0 6860.0 7200.0 6960.0 ',\n",
       "  '8100.0 8050.0 8480.0 8760.0 9410.0 9680.0 9330.0 8380.0 7420.0 6660.0 6770.0 6860.0 7200.0 6960.0 6920.0 ',\n",
       "  '8050.0 8480.0 8760.0 9410.0 9680.0 9330.0 8380.0 7420.0 6660.0 6770.0 6860.0 7200.0 6960.0 6920.0 7330.0 ',\n",
       "  '8480.0 8760.0 9410.0 9680.0 9330.0 8380.0 7420.0 6660.0 6770.0 6860.0 7200.0 6960.0 6920.0 7330.0 7760.0 ',\n",
       "  '8760.0 9410.0 9680.0 9330.0 8380.0 7420.0 6660.0 6770.0 6860.0 7200.0 6960.0 6920.0 7330.0 7760.0 7120.0 ',\n",
       "  '9410.0 9680.0 9330.0 8380.0 7420.0 6660.0 6770.0 6860.0 7200.0 6960.0 6920.0 7330.0 7760.0 7120.0 7200.0 ',\n",
       "  '9680.0 9330.0 8380.0 7420.0 6660.0 6770.0 6860.0 7200.0 6960.0 6920.0 7330.0 7760.0 7120.0 7200.0 6590.0 ',\n",
       "  '9330.0 8380.0 7420.0 6660.0 6770.0 6860.0 7200.0 6960.0 6920.0 7330.0 7760.0 7120.0 7200.0 6590.0 6450.0 ',\n",
       "  '8380.0 7420.0 6660.0 6770.0 6860.0 7200.0 6960.0 6920.0 7330.0 7760.0 7120.0 7200.0 6590.0 6450.0 6060.0 ',\n",
       "  '7420.0 6660.0 6770.0 6860.0 7200.0 6960.0 6920.0 7330.0 7760.0 7120.0 7200.0 6590.0 6450.0 6060.0 6180.0 ',\n",
       "  '6660.0 6770.0 6860.0 7200.0 6960.0 6920.0 7330.0 7760.0 7120.0 7200.0 6590.0 6450.0 6060.0 6180.0 6340.0 ',\n",
       "  '6770.0 6860.0 7200.0 6960.0 6920.0 7330.0 7760.0 7120.0 7200.0 6590.0 6450.0 6060.0 6180.0 6340.0 6220.0 '],\n",
       " [[10250.0],\n",
       "  [10060.0],\n",
       "  [9450.0],\n",
       "  [8990.0],\n",
       "  [8890.0],\n",
       "  [8280.0],\n",
       "  [8180.0],\n",
       "  [8210.0],\n",
       "  [8320.0],\n",
       "  [7860.0],\n",
       "  [8100.0],\n",
       "  [8310.0],\n",
       "  [8570.0],\n",
       "  [8380.0],\n",
       "  [7950.0],\n",
       "  [7900.0],\n",
       "  [8160.0],\n",
       "  [8210.0],\n",
       "  [8080.0],\n",
       "  [8100.0],\n",
       "  [8050.0],\n",
       "  [8480.0],\n",
       "  [8760.0],\n",
       "  [9410.0],\n",
       "  [9680.0],\n",
       "  [9330.0],\n",
       "  [8380.0],\n",
       "  [7420.0],\n",
       "  [6660.0],\n",
       "  [6770.0],\n",
       "  [6860.0],\n",
       "  [7200.0],\n",
       "  [6960.0],\n",
       "  [6920.0],\n",
       "  [7330.0],\n",
       "  [7760.0],\n",
       "  [7120.0],\n",
       "  [7200.0],\n",
       "  [6590.0],\n",
       "  [6450.0],\n",
       "  [6060.0],\n",
       "  [6180.0],\n",
       "  [6340.0],\n",
       "  [6220.0],\n",
       "  [5940.0]])"
      ]
     },
     "execution_count": 65,
     "metadata": {},
     "output_type": "execute_result"
    }
   ],
   "source": [
    "dt"
   ]
  },
  {
   "cell_type": "code",
   "execution_count": null,
   "metadata": {},
   "outputs": [],
   "source": []
  }
 ],
 "metadata": {
  "kernelspec": {
   "display_name": "llms-for-ts-nVlTfn4V-py3.9",
   "language": "python",
   "name": "python3"
  },
  "language_info": {
   "codemirror_mode": {
    "name": "ipython",
    "version": 3
   },
   "file_extension": ".py",
   "mimetype": "text/x-python",
   "name": "python",
   "nbconvert_exporter": "python",
   "pygments_lexer": "ipython3",
   "version": "3.9.6"
  }
 },
 "nbformat": 4,
 "nbformat_minor": 2
}
