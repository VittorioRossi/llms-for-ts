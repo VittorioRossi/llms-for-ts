{
 "cells": [
  {
   "cell_type": "code",
   "execution_count": 2,
   "metadata": {},
   "outputs": [
    {
     "name": "stdout",
     "output_type": "stream",
     "text": [
      "/Users/vittorio/Vega/research/llms-for-ts\n"
     ]
    },
    {
     "name": "stderr",
     "output_type": "stream",
     "text": [
      "/Users/vittorio/Library/Caches/pypoetry/virtualenvs/llms-for-ts-nVlTfn4V-py3.9/lib/python3.9/site-packages/IPython/core/magics/osm.py:417: UserWarning: using dhist requires you to install the `pickleshare` library.\n",
      "  self.shell.db['dhist'] = compress_dhist(dhist)[-100:]\n"
     ]
    }
   ],
   "source": [
    "%cd .."
   ]
  },
  {
   "cell_type": "markdown",
   "metadata": {},
   "source": [
    "# GWT"
   ]
  },
  {
   "cell_type": "code",
   "execution_count": 35,
   "metadata": {},
   "outputs": [],
   "source": [
    "import pandas as pd\n",
    "data = pd.read_csv(\"data/raw/m5/sales_train_validation.csv\")"
   ]
  },
  {
   "cell_type": "code",
   "execution_count": 36,
   "metadata": {},
   "outputs": [
    {
     "data": {
      "text/plain": [
       "58479820"
      ]
     },
     "execution_count": 36,
     "metadata": {},
     "output_type": "execute_result"
    }
   ],
   "source": [
    "(~data.iloc[:, 1:].isna()).sum().sum()"
   ]
  },
  {
   "cell_type": "code",
   "execution_count": null,
   "metadata": {},
   "outputs": [],
   "source": []
  },
  {
   "cell_type": "code",
   "execution_count": 39,
   "metadata": {},
   "outputs": [
    {
     "data": {
      "text/html": [
       "<div>\n",
       "<style scoped>\n",
       "    .dataframe tbody tr th:only-of-type {\n",
       "        vertical-align: middle;\n",
       "    }\n",
       "\n",
       "    .dataframe tbody tr th {\n",
       "        vertical-align: top;\n",
       "    }\n",
       "\n",
       "    .dataframe thead th {\n",
       "        text-align: right;\n",
       "    }\n",
       "</style>\n",
       "<table border=\"1\" class=\"dataframe\">\n",
       "  <thead>\n",
       "    <tr style=\"text-align: right;\">\n",
       "      <th></th>\n",
       "      <th>d_1</th>\n",
       "      <th>d_2</th>\n",
       "      <th>d_3</th>\n",
       "      <th>d_4</th>\n",
       "      <th>d_5</th>\n",
       "      <th>d_6</th>\n",
       "      <th>d_7</th>\n",
       "      <th>d_8</th>\n",
       "      <th>d_9</th>\n",
       "      <th>d_10</th>\n",
       "      <th>...</th>\n",
       "      <th>d_1904</th>\n",
       "      <th>d_1905</th>\n",
       "      <th>d_1906</th>\n",
       "      <th>d_1907</th>\n",
       "      <th>d_1908</th>\n",
       "      <th>d_1909</th>\n",
       "      <th>d_1910</th>\n",
       "      <th>d_1911</th>\n",
       "      <th>d_1912</th>\n",
       "      <th>d_1913</th>\n",
       "    </tr>\n",
       "  </thead>\n",
       "  <tbody>\n",
       "    <tr>\n",
       "      <th>0</th>\n",
       "      <td>0</td>\n",
       "      <td>0</td>\n",
       "      <td>0</td>\n",
       "      <td>0</td>\n",
       "      <td>0</td>\n",
       "      <td>0</td>\n",
       "      <td>0</td>\n",
       "      <td>0</td>\n",
       "      <td>0</td>\n",
       "      <td>0</td>\n",
       "      <td>...</td>\n",
       "      <td>1</td>\n",
       "      <td>3</td>\n",
       "      <td>0</td>\n",
       "      <td>1</td>\n",
       "      <td>1</td>\n",
       "      <td>1</td>\n",
       "      <td>3</td>\n",
       "      <td>0</td>\n",
       "      <td>1</td>\n",
       "      <td>1</td>\n",
       "    </tr>\n",
       "    <tr>\n",
       "      <th>1</th>\n",
       "      <td>0</td>\n",
       "      <td>0</td>\n",
       "      <td>0</td>\n",
       "      <td>0</td>\n",
       "      <td>0</td>\n",
       "      <td>0</td>\n",
       "      <td>0</td>\n",
       "      <td>0</td>\n",
       "      <td>0</td>\n",
       "      <td>0</td>\n",
       "      <td>...</td>\n",
       "      <td>0</td>\n",
       "      <td>0</td>\n",
       "      <td>0</td>\n",
       "      <td>0</td>\n",
       "      <td>0</td>\n",
       "      <td>1</td>\n",
       "      <td>0</td>\n",
       "      <td>0</td>\n",
       "      <td>0</td>\n",
       "      <td>0</td>\n",
       "    </tr>\n",
       "    <tr>\n",
       "      <th>2</th>\n",
       "      <td>0</td>\n",
       "      <td>0</td>\n",
       "      <td>0</td>\n",
       "      <td>0</td>\n",
       "      <td>0</td>\n",
       "      <td>0</td>\n",
       "      <td>0</td>\n",
       "      <td>0</td>\n",
       "      <td>0</td>\n",
       "      <td>0</td>\n",
       "      <td>...</td>\n",
       "      <td>2</td>\n",
       "      <td>1</td>\n",
       "      <td>2</td>\n",
       "      <td>1</td>\n",
       "      <td>1</td>\n",
       "      <td>1</td>\n",
       "      <td>0</td>\n",
       "      <td>1</td>\n",
       "      <td>1</td>\n",
       "      <td>1</td>\n",
       "    </tr>\n",
       "    <tr>\n",
       "      <th>3</th>\n",
       "      <td>0</td>\n",
       "      <td>0</td>\n",
       "      <td>0</td>\n",
       "      <td>0</td>\n",
       "      <td>0</td>\n",
       "      <td>0</td>\n",
       "      <td>0</td>\n",
       "      <td>0</td>\n",
       "      <td>0</td>\n",
       "      <td>0</td>\n",
       "      <td>...</td>\n",
       "      <td>1</td>\n",
       "      <td>0</td>\n",
       "      <td>5</td>\n",
       "      <td>4</td>\n",
       "      <td>1</td>\n",
       "      <td>0</td>\n",
       "      <td>1</td>\n",
       "      <td>3</td>\n",
       "      <td>7</td>\n",
       "      <td>2</td>\n",
       "    </tr>\n",
       "    <tr>\n",
       "      <th>4</th>\n",
       "      <td>0</td>\n",
       "      <td>0</td>\n",
       "      <td>0</td>\n",
       "      <td>0</td>\n",
       "      <td>0</td>\n",
       "      <td>0</td>\n",
       "      <td>0</td>\n",
       "      <td>0</td>\n",
       "      <td>0</td>\n",
       "      <td>0</td>\n",
       "      <td>...</td>\n",
       "      <td>2</td>\n",
       "      <td>1</td>\n",
       "      <td>1</td>\n",
       "      <td>0</td>\n",
       "      <td>1</td>\n",
       "      <td>1</td>\n",
       "      <td>2</td>\n",
       "      <td>2</td>\n",
       "      <td>2</td>\n",
       "      <td>4</td>\n",
       "    </tr>\n",
       "    <tr>\n",
       "      <th>...</th>\n",
       "      <td>...</td>\n",
       "      <td>...</td>\n",
       "      <td>...</td>\n",
       "      <td>...</td>\n",
       "      <td>...</td>\n",
       "      <td>...</td>\n",
       "      <td>...</td>\n",
       "      <td>...</td>\n",
       "      <td>...</td>\n",
       "      <td>...</td>\n",
       "      <td>...</td>\n",
       "      <td>...</td>\n",
       "      <td>...</td>\n",
       "      <td>...</td>\n",
       "      <td>...</td>\n",
       "      <td>...</td>\n",
       "      <td>...</td>\n",
       "      <td>...</td>\n",
       "      <td>...</td>\n",
       "      <td>...</td>\n",
       "      <td>...</td>\n",
       "    </tr>\n",
       "    <tr>\n",
       "      <th>30485</th>\n",
       "      <td>0</td>\n",
       "      <td>0</td>\n",
       "      <td>2</td>\n",
       "      <td>2</td>\n",
       "      <td>0</td>\n",
       "      <td>3</td>\n",
       "      <td>1</td>\n",
       "      <td>4</td>\n",
       "      <td>1</td>\n",
       "      <td>0</td>\n",
       "      <td>...</td>\n",
       "      <td>2</td>\n",
       "      <td>0</td>\n",
       "      <td>0</td>\n",
       "      <td>0</td>\n",
       "      <td>0</td>\n",
       "      <td>0</td>\n",
       "      <td>1</td>\n",
       "      <td>0</td>\n",
       "      <td>0</td>\n",
       "      <td>1</td>\n",
       "    </tr>\n",
       "    <tr>\n",
       "      <th>30486</th>\n",
       "      <td>0</td>\n",
       "      <td>0</td>\n",
       "      <td>0</td>\n",
       "      <td>0</td>\n",
       "      <td>0</td>\n",
       "      <td>5</td>\n",
       "      <td>0</td>\n",
       "      <td>1</td>\n",
       "      <td>1</td>\n",
       "      <td>3</td>\n",
       "      <td>...</td>\n",
       "      <td>0</td>\n",
       "      <td>0</td>\n",
       "      <td>0</td>\n",
       "      <td>0</td>\n",
       "      <td>0</td>\n",
       "      <td>0</td>\n",
       "      <td>0</td>\n",
       "      <td>0</td>\n",
       "      <td>1</td>\n",
       "      <td>0</td>\n",
       "    </tr>\n",
       "    <tr>\n",
       "      <th>30487</th>\n",
       "      <td>0</td>\n",
       "      <td>6</td>\n",
       "      <td>0</td>\n",
       "      <td>2</td>\n",
       "      <td>2</td>\n",
       "      <td>4</td>\n",
       "      <td>1</td>\n",
       "      <td>8</td>\n",
       "      <td>5</td>\n",
       "      <td>2</td>\n",
       "      <td>...</td>\n",
       "      <td>2</td>\n",
       "      <td>1</td>\n",
       "      <td>0</td>\n",
       "      <td>2</td>\n",
       "      <td>0</td>\n",
       "      <td>1</td>\n",
       "      <td>0</td>\n",
       "      <td>0</td>\n",
       "      <td>1</td>\n",
       "      <td>0</td>\n",
       "    </tr>\n",
       "    <tr>\n",
       "      <th>30488</th>\n",
       "      <td>0</td>\n",
       "      <td>0</td>\n",
       "      <td>0</td>\n",
       "      <td>0</td>\n",
       "      <td>0</td>\n",
       "      <td>0</td>\n",
       "      <td>0</td>\n",
       "      <td>0</td>\n",
       "      <td>0</td>\n",
       "      <td>0</td>\n",
       "      <td>...</td>\n",
       "      <td>0</td>\n",
       "      <td>0</td>\n",
       "      <td>1</td>\n",
       "      <td>0</td>\n",
       "      <td>0</td>\n",
       "      <td>1</td>\n",
       "      <td>0</td>\n",
       "      <td>3</td>\n",
       "      <td>1</td>\n",
       "      <td>3</td>\n",
       "    </tr>\n",
       "    <tr>\n",
       "      <th>30489</th>\n",
       "      <td>0</td>\n",
       "      <td>0</td>\n",
       "      <td>0</td>\n",
       "      <td>0</td>\n",
       "      <td>0</td>\n",
       "      <td>0</td>\n",
       "      <td>0</td>\n",
       "      <td>0</td>\n",
       "      <td>0</td>\n",
       "      <td>0</td>\n",
       "      <td>...</td>\n",
       "      <td>0</td>\n",
       "      <td>0</td>\n",
       "      <td>0</td>\n",
       "      <td>0</td>\n",
       "      <td>0</td>\n",
       "      <td>0</td>\n",
       "      <td>0</td>\n",
       "      <td>0</td>\n",
       "      <td>0</td>\n",
       "      <td>0</td>\n",
       "    </tr>\n",
       "  </tbody>\n",
       "</table>\n",
       "<p>30490 rows × 1913 columns</p>\n",
       "</div>"
      ],
      "text/plain": [
       "       d_1  d_2  d_3  d_4  d_5  d_6  d_7  d_8  d_9  d_10  ...  d_1904  d_1905  \\\n",
       "0        0    0    0    0    0    0    0    0    0     0  ...       1       3   \n",
       "1        0    0    0    0    0    0    0    0    0     0  ...       0       0   \n",
       "2        0    0    0    0    0    0    0    0    0     0  ...       2       1   \n",
       "3        0    0    0    0    0    0    0    0    0     0  ...       1       0   \n",
       "4        0    0    0    0    0    0    0    0    0     0  ...       2       1   \n",
       "...    ...  ...  ...  ...  ...  ...  ...  ...  ...   ...  ...     ...     ...   \n",
       "30485    0    0    2    2    0    3    1    4    1     0  ...       2       0   \n",
       "30486    0    0    0    0    0    5    0    1    1     3  ...       0       0   \n",
       "30487    0    6    0    2    2    4    1    8    5     2  ...       2       1   \n",
       "30488    0    0    0    0    0    0    0    0    0     0  ...       0       0   \n",
       "30489    0    0    0    0    0    0    0    0    0     0  ...       0       0   \n",
       "\n",
       "       d_1906  d_1907  d_1908  d_1909  d_1910  d_1911  d_1912  d_1913  \n",
       "0           0       1       1       1       3       0       1       1  \n",
       "1           0       0       0       1       0       0       0       0  \n",
       "2           2       1       1       1       0       1       1       1  \n",
       "3           5       4       1       0       1       3       7       2  \n",
       "4           1       0       1       1       2       2       2       4  \n",
       "...       ...     ...     ...     ...     ...     ...     ...     ...  \n",
       "30485       0       0       0       0       1       0       0       1  \n",
       "30486       0       0       0       0       0       0       1       0  \n",
       "30487       0       2       0       1       0       0       1       0  \n",
       "30488       1       0       0       1       0       3       1       3  \n",
       "30489       0       0       0       0       0       0       0       0  \n",
       "\n",
       "[30490 rows x 1913 columns]"
      ]
     },
     "execution_count": 39,
     "metadata": {},
     "output_type": "execute_result"
    }
   ],
   "source": [
    "data.iloc[:,6:].shape"
   ]
  },
  {
   "cell_type": "code",
   "execution_count": 3,
   "metadata": {},
   "outputs": [
    {
     "ename": "ModuleNotFoundError",
     "evalue": "No module named 'prompt'",
     "output_type": "error",
     "traceback": [
      "\u001b[0;31m---------------------------------------------------------------------------\u001b[0m",
      "\u001b[0;31mModuleNotFoundError\u001b[0m                       Traceback (most recent call last)",
      "Cell \u001b[0;32mIn[3], line 1\u001b[0m\n\u001b[0;32m----> 1\u001b[0m \u001b[38;5;28;01mfrom\u001b[39;00m \u001b[38;5;21;01msrc\u001b[39;00m\u001b[38;5;21;01m.\u001b[39;00m\u001b[38;5;21;01mfeatures\u001b[39;00m\u001b[38;5;21;01m.\u001b[39;00m\u001b[38;5;21;01mdatasets\u001b[39;00m \u001b[38;5;28;01mimport\u001b[39;00m GWTDataset\n\u001b[1;32m      3\u001b[0m dataset \u001b[38;5;241m=\u001b[39m GWTDataset(\u001b[38;5;124m\"\u001b[39m\u001b[38;5;124mdata/raw/gwt\u001b[39m\u001b[38;5;124m\"\u001b[39m)\n",
      "File \u001b[0;32m~/Vega/research/llms-for-ts/src/__init__.py:1\u001b[0m\n\u001b[0;32m----> 1\u001b[0m \u001b[38;5;28;01mfrom\u001b[39;00m \u001b[38;5;21;01m.\u001b[39;00m \u001b[38;5;28;01mimport\u001b[39;00m features\n\u001b[1;32m      2\u001b[0m \u001b[38;5;28;01mfrom\u001b[39;00m \u001b[38;5;21;01m.\u001b[39;00m \u001b[38;5;28;01mimport\u001b[39;00m models\n\u001b[1;32m      3\u001b[0m \u001b[38;5;28;01mfrom\u001b[39;00m \u001b[38;5;21;01m.\u001b[39;00m \u001b[38;5;28;01mimport\u001b[39;00m visualization\n",
      "File \u001b[0;32m~/Vega/research/llms-for-ts/src/features/__init__.py:1\u001b[0m\n\u001b[0;32m----> 1\u001b[0m \u001b[38;5;28;01mfrom\u001b[39;00m \u001b[38;5;21;01m.\u001b[39;00m\u001b[38;5;21;01mdatasets\u001b[39;00m \u001b[38;5;28;01mimport\u001b[39;00m \u001b[38;5;241m*\u001b[39m\n\u001b[1;32m      2\u001b[0m \u001b[38;5;28;01mimport\u001b[39;00m \u001b[38;5;21;01mos\u001b[39;00m\n\u001b[1;32m      4\u001b[0m cache_folder \u001b[38;5;241m=\u001b[39m os\u001b[38;5;241m.\u001b[39menviron\u001b[38;5;241m.\u001b[39mget(\u001b[38;5;124m'\u001b[39m\u001b[38;5;124mCACHE_FOLDER\u001b[39m\u001b[38;5;124m'\u001b[39m,\u001b[38;5;124m'\u001b[39m\u001b[38;5;124mdata/processed/\u001b[39m\u001b[38;5;124m'\u001b[39m)\n",
      "File \u001b[0;32m~/Vega/research/llms-for-ts/src/features/datasets.py:6\u001b[0m\n\u001b[1;32m      3\u001b[0m \u001b[38;5;28;01mimport\u001b[39;00m \u001b[38;5;21;01mnumpy\u001b[39;00m \u001b[38;5;28;01mas\u001b[39;00m \u001b[38;5;21;01mnp\u001b[39;00m\n\u001b[1;32m      4\u001b[0m \u001b[38;5;28;01mimport\u001b[39;00m \u001b[38;5;21;01mast\u001b[39;00m\n\u001b[0;32m----> 6\u001b[0m \u001b[38;5;28;01mfrom\u001b[39;00m \u001b[38;5;21;01m.\u001b[39;00m \u001b[38;5;28;01mimport\u001b[39;00m utils\n\u001b[1;32m      7\u001b[0m \u001b[38;5;28;01mfrom\u001b[39;00m \u001b[38;5;21;01mpathlib\u001b[39;00m \u001b[38;5;28;01mimport\u001b[39;00m Path\n\u001b[1;32m      9\u001b[0m \u001b[38;5;28;01mdef\u001b[39;00m \u001b[38;5;21mbuild_cache_path\u001b[39m(cache_folder, window_size, target_size,  prompt_name\u001b[38;5;241m=\u001b[39m\u001b[38;5;124m'\u001b[39m\u001b[38;5;124m'\u001b[39m, \u001b[38;5;241m*\u001b[39m\u001b[38;5;241m*\u001b[39mkwargs):\n",
      "File \u001b[0;32m~/Vega/research/llms-for-ts/src/features/utils.py:8\u001b[0m\n\u001b[1;32m      5\u001b[0m \u001b[38;5;28;01mfrom\u001b[39;00m \u001b[38;5;21;01mpydantic\u001b[39;00m \u001b[38;5;28;01mimport\u001b[39;00m BaseModel \n\u001b[1;32m      6\u001b[0m \u001b[38;5;28;01mfrom\u001b[39;00m \u001b[38;5;21;01mtyping\u001b[39;00m \u001b[38;5;28;01mimport\u001b[39;00m List, Tuple\n\u001b[0;32m----> 8\u001b[0m \u001b[38;5;28;01mfrom\u001b[39;00m \u001b[38;5;21;01mprompt\u001b[39;00m \u001b[38;5;28;01mimport\u001b[39;00m load_template\n\u001b[1;32m     10\u001b[0m \u001b[38;5;28;01mclass\u001b[39;00m \u001b[38;5;21;01mObservation\u001b[39;00m(BaseModel):\n\u001b[1;32m     11\u001b[0m \u001b[38;5;250m    \u001b[39m\u001b[38;5;124;03m\"\"\"\u001b[39;00m\n\u001b[1;32m     12\u001b[0m \u001b[38;5;124;03m    Represents an observation in a time series dataset.\u001b[39;00m\n\u001b[1;32m     13\u001b[0m \n\u001b[0;32m   (...)\u001b[0m\n\u001b[1;32m     18\u001b[0m \u001b[38;5;124;03m        metadata (dict, optional): Additional metadata associated with the observation. Defaults to {}.\u001b[39;00m\n\u001b[1;32m     19\u001b[0m \u001b[38;5;124;03m    \"\"\"\u001b[39;00m\n",
      "\u001b[0;31mModuleNotFoundError\u001b[0m: No module named 'prompt'"
     ]
    }
   ],
   "source": [
    "from src.features.datasets import GWTDataset\n",
    "\n",
    "dataset = GWTDataset(\"data/raw/gwt\")"
   ]
  },
  {
   "cell_type": "code",
   "execution_count": 29,
   "metadata": {},
   "outputs": [
    {
     "name": "stdout",
     "output_type": "stream",
     "text": [
      "(['18.0 11.0 5.0 13.0 14.0 9.0 9.0 22.0 26.0 24.0 19.0 10.0 14.0 15.0 8.0 16.0 8.0 8.0 16.0 7.0 11.0 10.0 20.0 18.0 ', '11.0 5.0 13.0 14.0 9.0 9.0 22.0 26.0 24.0 19.0 10.0 14.0 15.0 8.0 16.0 8.0 8.0 16.0 7.0 11.0 10.0 20.0 18.0 15.0 ', '5.0 13.0 14.0 9.0 9.0 22.0 26.0 24.0 19.0 10.0 14.0 15.0 8.0 16.0 8.0 8.0 16.0 7.0 11.0 10.0 20.0 18.0 15.0 14.0 ', '13.0 14.0 9.0 9.0 22.0 26.0 24.0 19.0 10.0 14.0 15.0 8.0 16.0 8.0 8.0 16.0 7.0 11.0 10.0 20.0 18.0 15.0 14.0 49.0 ', '14.0 9.0 9.0 22.0 26.0 24.0 19.0 10.0 14.0 15.0 8.0 16.0 8.0 8.0 16.0 7.0 11.0 10.0 20.0 18.0 15.0 14.0 49.0 10.0 ', '9.0 9.0 22.0 26.0 24.0 19.0 10.0 14.0 15.0 8.0 16.0 8.0 8.0 16.0 7.0 11.0 10.0 20.0 18.0 15.0 14.0 49.0 10.0 16.0 ', '9.0 22.0 26.0 24.0 19.0 10.0 14.0 15.0 8.0 16.0 8.0 8.0 16.0 7.0 11.0 10.0 20.0 18.0 15.0 14.0 49.0 10.0 16.0 18.0 ', '22.0 26.0 24.0 19.0 10.0 14.0 15.0 8.0 16.0 8.0 8.0 16.0 7.0 11.0 10.0 20.0 18.0 15.0 14.0 49.0 10.0 16.0 18.0 8.0 ', '26.0 24.0 19.0 10.0 14.0 15.0 8.0 16.0 8.0 8.0 16.0 7.0 11.0 10.0 20.0 18.0 15.0 14.0 49.0 10.0 16.0 18.0 8.0 5.0 ', '24.0 19.0 10.0 14.0 15.0 8.0 16.0 8.0 8.0 16.0 7.0 11.0 10.0 20.0 18.0 15.0 14.0 49.0 10.0 16.0 18.0 8.0 5.0 9.0 ', '19.0 10.0 14.0 15.0 8.0 16.0 8.0 8.0 16.0 7.0 11.0 10.0 20.0 18.0 15.0 14.0 49.0 10.0 16.0 18.0 8.0 5.0 9.0 7.0 ', '10.0 14.0 15.0 8.0 16.0 8.0 8.0 16.0 7.0 11.0 10.0 20.0 18.0 15.0 14.0 49.0 10.0 16.0 18.0 8.0 5.0 9.0 7.0 13.0 ', '14.0 15.0 8.0 16.0 8.0 8.0 16.0 7.0 11.0 10.0 20.0 18.0 15.0 14.0 49.0 10.0 16.0 18.0 8.0 5.0 9.0 7.0 13.0 9.0 ', '15.0 8.0 16.0 8.0 8.0 16.0 7.0 11.0 10.0 20.0 18.0 15.0 14.0 49.0 10.0 16.0 18.0 8.0 5.0 9.0 7.0 13.0 9.0 7.0 ', '8.0 16.0 8.0 8.0 16.0 7.0 11.0 10.0 20.0 18.0 15.0 14.0 49.0 10.0 16.0 18.0 8.0 5.0 9.0 7.0 13.0 9.0 7.0 4.0 ', '16.0 8.0 8.0 16.0 7.0 11.0 10.0 20.0 18.0 15.0 14.0 49.0 10.0 16.0 18.0 8.0 5.0 9.0 7.0 13.0 9.0 7.0 4.0 11.0 ', '8.0 8.0 16.0 7.0 11.0 10.0 20.0 18.0 15.0 14.0 49.0 10.0 16.0 18.0 8.0 5.0 9.0 7.0 13.0 9.0 7.0 4.0 11.0 10.0 ', '8.0 16.0 7.0 11.0 10.0 20.0 18.0 15.0 14.0 49.0 10.0 16.0 18.0 8.0 5.0 9.0 7.0 13.0 9.0 7.0 4.0 11.0 10.0 5.0 ', '16.0 7.0 11.0 10.0 20.0 18.0 15.0 14.0 49.0 10.0 16.0 18.0 8.0 5.0 9.0 7.0 13.0 9.0 7.0 4.0 11.0 10.0 5.0 9.0 ', '7.0 11.0 10.0 20.0 18.0 15.0 14.0 49.0 10.0 16.0 18.0 8.0 5.0 9.0 7.0 13.0 9.0 7.0 4.0 11.0 10.0 5.0 9.0 9.0 ', '11.0 10.0 20.0 18.0 15.0 14.0 49.0 10.0 16.0 18.0 8.0 5.0 9.0 7.0 13.0 9.0 7.0 4.0 11.0 10.0 5.0 9.0 9.0 9.0 ', '10.0 20.0 18.0 15.0 14.0 49.0 10.0 16.0 18.0 8.0 5.0 9.0 7.0 13.0 9.0 7.0 4.0 11.0 10.0 5.0 9.0 9.0 9.0 9.0 ', '20.0 18.0 15.0 14.0 49.0 10.0 16.0 18.0 8.0 5.0 9.0 7.0 13.0 9.0 7.0 4.0 11.0 10.0 5.0 9.0 9.0 9.0 9.0 13.0 ', '18.0 15.0 14.0 49.0 10.0 16.0 18.0 8.0 5.0 9.0 7.0 13.0 9.0 7.0 4.0 11.0 10.0 5.0 9.0 9.0 9.0 9.0 13.0 4.0 ', '15.0 14.0 49.0 10.0 16.0 18.0 8.0 5.0 9.0 7.0 13.0 9.0 7.0 4.0 11.0 10.0 5.0 9.0 9.0 9.0 9.0 13.0 4.0 15.0 ', '14.0 49.0 10.0 16.0 18.0 8.0 5.0 9.0 7.0 13.0 9.0 7.0 4.0 11.0 10.0 5.0 9.0 9.0 9.0 9.0 13.0 4.0 15.0 25.0 ', '49.0 10.0 16.0 18.0 8.0 5.0 9.0 7.0 13.0 9.0 7.0 4.0 11.0 10.0 5.0 9.0 9.0 9.0 9.0 13.0 4.0 15.0 25.0 9.0 ', '10.0 16.0 18.0 8.0 5.0 9.0 7.0 13.0 9.0 7.0 4.0 11.0 10.0 5.0 9.0 9.0 9.0 9.0 13.0 4.0 15.0 25.0 9.0 5.0 ', '16.0 18.0 8.0 5.0 9.0 7.0 13.0 9.0 7.0 4.0 11.0 10.0 5.0 9.0 9.0 9.0 9.0 13.0 4.0 15.0 25.0 9.0 5.0 6.0 ', '18.0 8.0 5.0 9.0 7.0 13.0 9.0 7.0 4.0 11.0 10.0 5.0 9.0 9.0 9.0 9.0 13.0 4.0 15.0 25.0 9.0 5.0 6.0 20.0 ', '8.0 5.0 9.0 7.0 13.0 9.0 7.0 4.0 11.0 10.0 5.0 9.0 9.0 9.0 9.0 13.0 4.0 15.0 25.0 9.0 5.0 6.0 20.0 3.0 ', '5.0 9.0 7.0 13.0 9.0 7.0 4.0 11.0 10.0 5.0 9.0 9.0 9.0 9.0 13.0 4.0 15.0 25.0 9.0 5.0 6.0 20.0 3.0 14.0 ', '9.0 7.0 13.0 9.0 7.0 4.0 11.0 10.0 5.0 9.0 9.0 9.0 9.0 13.0 4.0 15.0 25.0 9.0 5.0 6.0 20.0 3.0 14.0 46.0 ', '7.0 13.0 9.0 7.0 4.0 11.0 10.0 5.0 9.0 9.0 9.0 9.0 13.0 4.0 15.0 25.0 9.0 5.0 6.0 20.0 3.0 14.0 46.0 5.0 ', '13.0 9.0 7.0 4.0 11.0 10.0 5.0 9.0 9.0 9.0 9.0 13.0 4.0 15.0 25.0 9.0 5.0 6.0 20.0 3.0 14.0 46.0 5.0 5.0 ', '9.0 7.0 4.0 11.0 10.0 5.0 9.0 9.0 9.0 9.0 13.0 4.0 15.0 25.0 9.0 5.0 6.0 20.0 3.0 14.0 46.0 5.0 5.0 13.0 ', '7.0 4.0 11.0 10.0 5.0 9.0 9.0 9.0 9.0 13.0 4.0 15.0 25.0 9.0 5.0 6.0 20.0 3.0 14.0 46.0 5.0 5.0 13.0 4.0 ', '4.0 11.0 10.0 5.0 9.0 9.0 9.0 9.0 13.0 4.0 15.0 25.0 9.0 5.0 6.0 20.0 3.0 14.0 46.0 5.0 5.0 13.0 4.0 9.0 ', '11.0 10.0 5.0 9.0 9.0 9.0 9.0 13.0 4.0 15.0 25.0 9.0 5.0 6.0 20.0 3.0 14.0 46.0 5.0 5.0 13.0 4.0 9.0 10.0 ', '10.0 5.0 9.0 9.0 9.0 9.0 13.0 4.0 15.0 25.0 9.0 5.0 6.0 20.0 3.0 14.0 46.0 5.0 5.0 13.0 4.0 9.0 10.0 9.0 ', '5.0 9.0 9.0 9.0 9.0 13.0 4.0 15.0 25.0 9.0 5.0 6.0 20.0 3.0 14.0 46.0 5.0 5.0 13.0 4.0 9.0 10.0 9.0 11.0 ', '9.0 9.0 9.0 9.0 13.0 4.0 15.0 25.0 9.0 5.0 6.0 20.0 3.0 14.0 46.0 5.0 5.0 13.0 4.0 9.0 10.0 9.0 11.0 11.0 ', '9.0 9.0 9.0 13.0 4.0 15.0 25.0 9.0 5.0 6.0 20.0 3.0 14.0 46.0 5.0 5.0 13.0 4.0 9.0 10.0 9.0 11.0 11.0 11.0 ', '9.0 9.0 13.0 4.0 15.0 25.0 9.0 5.0 6.0 20.0 3.0 14.0 46.0 5.0 5.0 13.0 4.0 9.0 10.0 9.0 11.0 11.0 11.0 9.0 ', '9.0 13.0 4.0 15.0 25.0 9.0 5.0 6.0 20.0 3.0 14.0 46.0 5.0 5.0 13.0 4.0 9.0 10.0 9.0 11.0 11.0 11.0 9.0 15.0 ', '13.0 4.0 15.0 25.0 9.0 5.0 6.0 20.0 3.0 14.0 46.0 5.0 5.0 13.0 4.0 9.0 10.0 9.0 11.0 11.0 11.0 9.0 15.0 5.0 ', '4.0 15.0 25.0 9.0 5.0 6.0 20.0 3.0 14.0 46.0 5.0 5.0 13.0 4.0 9.0 10.0 9.0 11.0 11.0 11.0 9.0 15.0 5.0 10.0 ', '15.0 25.0 9.0 5.0 6.0 20.0 3.0 14.0 46.0 5.0 5.0 13.0 4.0 9.0 10.0 9.0 11.0 11.0 11.0 9.0 15.0 5.0 10.0 7.0 ', '25.0 9.0 5.0 6.0 20.0 3.0 14.0 46.0 5.0 5.0 13.0 4.0 9.0 10.0 9.0 11.0 11.0 11.0 9.0 15.0 5.0 10.0 7.0 4.0 ', '9.0 5.0 6.0 20.0 3.0 14.0 46.0 5.0 5.0 13.0 4.0 9.0 10.0 9.0 11.0 11.0 11.0 9.0 15.0 5.0 10.0 7.0 4.0 8.0 ', '5.0 6.0 20.0 3.0 14.0 46.0 5.0 5.0 13.0 4.0 9.0 10.0 9.0 11.0 11.0 11.0 9.0 15.0 5.0 10.0 7.0 4.0 8.0 9.0 ', '6.0 20.0 3.0 14.0 46.0 5.0 5.0 13.0 4.0 9.0 10.0 9.0 11.0 11.0 11.0 9.0 15.0 5.0 10.0 7.0 4.0 8.0 9.0 10.0 ', '20.0 3.0 14.0 46.0 5.0 5.0 13.0 4.0 9.0 10.0 9.0 11.0 11.0 11.0 9.0 15.0 5.0 10.0 7.0 4.0 8.0 9.0 10.0 6.0 ', '3.0 14.0 46.0 5.0 5.0 13.0 4.0 9.0 10.0 9.0 11.0 11.0 11.0 9.0 15.0 5.0 10.0 7.0 4.0 8.0 9.0 10.0 6.0 13.0 ', '14.0 46.0 5.0 5.0 13.0 4.0 9.0 10.0 9.0 11.0 11.0 11.0 9.0 15.0 5.0 10.0 7.0 4.0 8.0 9.0 10.0 6.0 13.0 16.0 ', '46.0 5.0 5.0 13.0 4.0 9.0 10.0 9.0 11.0 11.0 11.0 9.0 15.0 5.0 10.0 7.0 4.0 8.0 9.0 10.0 6.0 13.0 16.0 6.0 ', '5.0 5.0 13.0 4.0 9.0 10.0 9.0 11.0 11.0 11.0 9.0 15.0 5.0 10.0 7.0 4.0 8.0 9.0 10.0 6.0 13.0 16.0 6.0 24.0 ', '5.0 13.0 4.0 9.0 10.0 9.0 11.0 11.0 11.0 9.0 15.0 5.0 10.0 7.0 4.0 8.0 9.0 10.0 6.0 13.0 16.0 6.0 24.0 9.0 ', '13.0 4.0 9.0 10.0 9.0 11.0 11.0 11.0 9.0 15.0 5.0 10.0 7.0 4.0 8.0 9.0 10.0 6.0 13.0 16.0 6.0 24.0 9.0 11.0 ', '4.0 9.0 10.0 9.0 11.0 11.0 11.0 9.0 15.0 5.0 10.0 7.0 4.0 8.0 9.0 10.0 6.0 13.0 16.0 6.0 24.0 9.0 11.0 12.0 ', '9.0 10.0 9.0 11.0 11.0 11.0 9.0 15.0 5.0 10.0 7.0 4.0 8.0 9.0 10.0 6.0 13.0 16.0 6.0 24.0 9.0 11.0 12.0 8.0 ', '10.0 9.0 11.0 11.0 11.0 9.0 15.0 5.0 10.0 7.0 4.0 8.0 9.0 10.0 6.0 13.0 16.0 6.0 24.0 9.0 11.0 12.0 8.0 14.0 ', '9.0 11.0 11.0 11.0 9.0 15.0 5.0 10.0 7.0 4.0 8.0 9.0 10.0 6.0 13.0 16.0 6.0 24.0 9.0 11.0 12.0 8.0 14.0 6.0 ', '11.0 11.0 11.0 9.0 15.0 5.0 10.0 7.0 4.0 8.0 9.0 10.0 6.0 13.0 16.0 6.0 24.0 9.0 11.0 12.0 8.0 14.0 6.0 6.0 '], [[15.0], [14.0], [49.0], [10.0], [16.0], [18.0], [8.0], [5.0], [9.0], [7.0], [13.0], [9.0], [7.0], [4.0], [11.0], [10.0], [5.0], [9.0], [9.0], [9.0], [9.0], [13.0], [4.0], [15.0], [25.0], [9.0], [5.0], [6.0], [20.0], [3.0], [14.0], [46.0], [5.0], [5.0], [13.0], [4.0], [9.0], [10.0], [9.0], [11.0], [11.0], [11.0], [9.0], [15.0], [5.0], [10.0], [7.0], [4.0], [8.0], [9.0], [10.0], [6.0], [13.0], [16.0], [6.0], [24.0], [9.0], [11.0], [12.0], [8.0], [14.0], [6.0], [6.0], [11.0]])\n"
     ]
    }
   ],
   "source": [
    "gen  = dataset.process(\"base\", batch_size = 64, chunksize=10)\n",
    "for el in gen:\n",
    "    print(el)\n",
    "    break"
   ]
  },
  {
   "cell_type": "markdown",
   "metadata": {},
   "source": [
    "# Testing M5 dataset"
   ]
  },
  {
   "cell_type": "code",
   "execution_count": 30,
   "metadata": {},
   "outputs": [],
   "source": [
    "from src.features.datasets import M4Dataset, ETTHDataset, M5Dataset"
   ]
  },
  {
   "cell_type": "code",
   "execution_count": 32,
   "metadata": {},
   "outputs": [
    {
     "ename": "KeyboardInterrupt",
     "evalue": "",
     "output_type": "error",
     "traceback": [
      "\u001b[0;31m---------------------------------------------------------------------------\u001b[0m",
      "\u001b[0;31mKeyboardInterrupt\u001b[0m                         Traceback (most recent call last)",
      "Cell \u001b[0;32mIn[32], line 3\u001b[0m\n\u001b[1;32m      1\u001b[0m mm \u001b[38;5;241m=\u001b[39m M5Dataset(\u001b[38;5;124m'\u001b[39m\u001b[38;5;124mdata/raw/m5\u001b[39m\u001b[38;5;124m'\u001b[39m)\n\u001b[0;32m----> 3\u001b[0m \u001b[38;5;28;01mfor\u001b[39;00m el \u001b[38;5;129;01min\u001b[39;00m mm\u001b[38;5;241m.\u001b[39mprocess(\u001b[38;5;124m'\u001b[39m\u001b[38;5;124mbase\u001b[39m\u001b[38;5;124m'\u001b[39m, batch_size\u001b[38;5;241m=\u001b[39m\u001b[38;5;241m64\u001b[39m, chunksize\u001b[38;5;241m=\u001b[39m\u001b[38;5;241m1\u001b[39m, window_size\u001b[38;5;241m=\u001b[39m\u001b[38;5;241m24\u001b[39m, target_size\u001b[38;5;241m=\u001b[39m\u001b[38;5;241m1\u001b[39m):\n\u001b[1;32m      4\u001b[0m     \u001b[38;5;28mprint\u001b[39m(el)\n\u001b[1;32m      5\u001b[0m     \u001b[38;5;28;01mbreak\u001b[39;00m\n",
      "File \u001b[0;32m~/Vega/research/llms-for-ts/src/features/datasets.py:134\u001b[0m, in \u001b[0;36mM5Dataset.process\u001b[0;34m(self, promt_name, batch_size, chunksize, **kwargs)\u001b[0m\n\u001b[1;32m    132\u001b[0m \u001b[38;5;28;01mfor\u001b[39;00m chunk \u001b[38;5;129;01min\u001b[39;00m chunks:\n\u001b[1;32m    133\u001b[0m     chunk \u001b[38;5;241m=\u001b[39m chunk\u001b[38;5;241m.\u001b[39mmelt(id_vars\u001b[38;5;241m=\u001b[39mmetadata, var_name\u001b[38;5;241m=\u001b[39m\u001b[38;5;124m'\u001b[39m\u001b[38;5;124md\u001b[39m\u001b[38;5;124m'\u001b[39m, value_name\u001b[38;5;241m=\u001b[39m\u001b[38;5;124m'\u001b[39m\u001b[38;5;124mtarget\u001b[39m\u001b[38;5;124m'\u001b[39m)\n\u001b[0;32m--> 134\u001b[0m     chunk \u001b[38;5;241m=\u001b[39m \u001b[38;5;28;43mself\u001b[39;49m\u001b[38;5;241;43m.\u001b[39;49m\u001b[43m_merge_metadata\u001b[49m\u001b[43m(\u001b[49m\u001b[43mchunk\u001b[49m\u001b[43m)\u001b[49m\n\u001b[1;32m    135\u001b[0m     X, y \u001b[38;5;241m=\u001b[39m utils\u001b[38;5;241m.\u001b[39mprocess_dataset(chunk, promt_name, \u001b[38;5;241m*\u001b[39m\u001b[38;5;241m*\u001b[39mconfig)\n\u001b[1;32m    137\u001b[0m     \u001b[38;5;28;01mfor\u001b[39;00m batch \u001b[38;5;129;01min\u001b[39;00m  utils\u001b[38;5;241m.\u001b[39mcreate_batches(X, y, batch_size):\n",
      "File \u001b[0;32m~/Vega/research/llms-for-ts/src/features/datasets.py:117\u001b[0m, in \u001b[0;36mM5Dataset._merge_metadata\u001b[0;34m(self, df)\u001b[0m\n\u001b[1;32m    115\u001b[0m \u001b[38;5;28;01mdef\u001b[39;00m \u001b[38;5;21m_merge_metadata\u001b[39m(\u001b[38;5;28mself\u001b[39m, df):\n\u001b[1;32m    116\u001b[0m     df \u001b[38;5;241m=\u001b[39m df\u001b[38;5;241m.\u001b[39mmerge(\u001b[38;5;28mself\u001b[39m\u001b[38;5;241m.\u001b[39mcalendar, how\u001b[38;5;241m=\u001b[39m\u001b[38;5;124m'\u001b[39m\u001b[38;5;124mleft\u001b[39m\u001b[38;5;124m'\u001b[39m, on\u001b[38;5;241m=\u001b[39m\u001b[38;5;124m'\u001b[39m\u001b[38;5;124md\u001b[39m\u001b[38;5;124m'\u001b[39m)\n\u001b[0;32m--> 117\u001b[0m     df \u001b[38;5;241m=\u001b[39m \u001b[43mdf\u001b[49m\u001b[38;5;241;43m.\u001b[39;49m\u001b[43mmerge\u001b[49m\u001b[43m(\u001b[49m\u001b[38;5;28;43mself\u001b[39;49m\u001b[38;5;241;43m.\u001b[39;49m\u001b[43mprices\u001b[49m\u001b[43m,\u001b[49m\u001b[43m \u001b[49m\u001b[43mhow\u001b[49m\u001b[38;5;241;43m=\u001b[39;49m\u001b[38;5;124;43m'\u001b[39;49m\u001b[38;5;124;43mleft\u001b[39;49m\u001b[38;5;124;43m'\u001b[39;49m\u001b[43m,\u001b[49m\u001b[43m \u001b[49m\u001b[43mon\u001b[49m\u001b[38;5;241;43m=\u001b[39;49m\u001b[38;5;124;43m\"\u001b[39;49m\u001b[38;5;124;43mwm_yr_wk\u001b[39;49m\u001b[38;5;124;43m\"\u001b[39;49m\u001b[43m)\u001b[49m\n\u001b[1;32m    118\u001b[0m     \u001b[38;5;28;01mreturn\u001b[39;00m df\n",
      "File \u001b[0;32m~/Library/Caches/pypoetry/virtualenvs/llms-for-ts-nVlTfn4V-py3.9/lib/python3.9/site-packages/pandas/core/frame.py:10832\u001b[0m, in \u001b[0;36mDataFrame.merge\u001b[0;34m(self, right, how, on, left_on, right_on, left_index, right_index, sort, suffixes, copy, indicator, validate)\u001b[0m\n\u001b[1;32m  10813\u001b[0m \u001b[38;5;129m@Substitution\u001b[39m(\u001b[38;5;124m\"\u001b[39m\u001b[38;5;124m\"\u001b[39m)\n\u001b[1;32m  10814\u001b[0m \u001b[38;5;129m@Appender\u001b[39m(_merge_doc, indents\u001b[38;5;241m=\u001b[39m\u001b[38;5;241m2\u001b[39m)\n\u001b[1;32m  10815\u001b[0m \u001b[38;5;28;01mdef\u001b[39;00m \u001b[38;5;21mmerge\u001b[39m(\n\u001b[0;32m   (...)\u001b[0m\n\u001b[1;32m  10828\u001b[0m     validate: MergeValidate \u001b[38;5;241m|\u001b[39m \u001b[38;5;28;01mNone\u001b[39;00m \u001b[38;5;241m=\u001b[39m \u001b[38;5;28;01mNone\u001b[39;00m,\n\u001b[1;32m  10829\u001b[0m ) \u001b[38;5;241m-\u001b[39m\u001b[38;5;241m>\u001b[39m DataFrame:\n\u001b[1;32m  10830\u001b[0m     \u001b[38;5;28;01mfrom\u001b[39;00m \u001b[38;5;21;01mpandas\u001b[39;00m\u001b[38;5;21;01m.\u001b[39;00m\u001b[38;5;21;01mcore\u001b[39;00m\u001b[38;5;21;01m.\u001b[39;00m\u001b[38;5;21;01mreshape\u001b[39;00m\u001b[38;5;21;01m.\u001b[39;00m\u001b[38;5;21;01mmerge\u001b[39;00m \u001b[38;5;28;01mimport\u001b[39;00m merge\n\u001b[0;32m> 10832\u001b[0m     \u001b[38;5;28;01mreturn\u001b[39;00m \u001b[43mmerge\u001b[49m\u001b[43m(\u001b[49m\n\u001b[1;32m  10833\u001b[0m \u001b[43m        \u001b[49m\u001b[38;5;28;43mself\u001b[39;49m\u001b[43m,\u001b[49m\n\u001b[1;32m  10834\u001b[0m \u001b[43m        \u001b[49m\u001b[43mright\u001b[49m\u001b[43m,\u001b[49m\n\u001b[1;32m  10835\u001b[0m \u001b[43m        \u001b[49m\u001b[43mhow\u001b[49m\u001b[38;5;241;43m=\u001b[39;49m\u001b[43mhow\u001b[49m\u001b[43m,\u001b[49m\n\u001b[1;32m  10836\u001b[0m \u001b[43m        \u001b[49m\u001b[43mon\u001b[49m\u001b[38;5;241;43m=\u001b[39;49m\u001b[43mon\u001b[49m\u001b[43m,\u001b[49m\n\u001b[1;32m  10837\u001b[0m \u001b[43m        \u001b[49m\u001b[43mleft_on\u001b[49m\u001b[38;5;241;43m=\u001b[39;49m\u001b[43mleft_on\u001b[49m\u001b[43m,\u001b[49m\n\u001b[1;32m  10838\u001b[0m \u001b[43m        \u001b[49m\u001b[43mright_on\u001b[49m\u001b[38;5;241;43m=\u001b[39;49m\u001b[43mright_on\u001b[49m\u001b[43m,\u001b[49m\n\u001b[1;32m  10839\u001b[0m \u001b[43m        \u001b[49m\u001b[43mleft_index\u001b[49m\u001b[38;5;241;43m=\u001b[39;49m\u001b[43mleft_index\u001b[49m\u001b[43m,\u001b[49m\n\u001b[1;32m  10840\u001b[0m \u001b[43m        \u001b[49m\u001b[43mright_index\u001b[49m\u001b[38;5;241;43m=\u001b[39;49m\u001b[43mright_index\u001b[49m\u001b[43m,\u001b[49m\n\u001b[1;32m  10841\u001b[0m \u001b[43m        \u001b[49m\u001b[43msort\u001b[49m\u001b[38;5;241;43m=\u001b[39;49m\u001b[43msort\u001b[49m\u001b[43m,\u001b[49m\n\u001b[1;32m  10842\u001b[0m \u001b[43m        \u001b[49m\u001b[43msuffixes\u001b[49m\u001b[38;5;241;43m=\u001b[39;49m\u001b[43msuffixes\u001b[49m\u001b[43m,\u001b[49m\n\u001b[1;32m  10843\u001b[0m \u001b[43m        \u001b[49m\u001b[43mcopy\u001b[49m\u001b[38;5;241;43m=\u001b[39;49m\u001b[43mcopy\u001b[49m\u001b[43m,\u001b[49m\n\u001b[1;32m  10844\u001b[0m \u001b[43m        \u001b[49m\u001b[43mindicator\u001b[49m\u001b[38;5;241;43m=\u001b[39;49m\u001b[43mindicator\u001b[49m\u001b[43m,\u001b[49m\n\u001b[1;32m  10845\u001b[0m \u001b[43m        \u001b[49m\u001b[43mvalidate\u001b[49m\u001b[38;5;241;43m=\u001b[39;49m\u001b[43mvalidate\u001b[49m\u001b[43m,\u001b[49m\n\u001b[1;32m  10846\u001b[0m \u001b[43m    \u001b[49m\u001b[43m)\u001b[49m\n",
      "File \u001b[0;32m~/Library/Caches/pypoetry/virtualenvs/llms-for-ts-nVlTfn4V-py3.9/lib/python3.9/site-packages/pandas/core/reshape/merge.py:184\u001b[0m, in \u001b[0;36mmerge\u001b[0;34m(left, right, how, on, left_on, right_on, left_index, right_index, sort, suffixes, copy, indicator, validate)\u001b[0m\n\u001b[1;32m    169\u001b[0m \u001b[38;5;28;01melse\u001b[39;00m:\n\u001b[1;32m    170\u001b[0m     op \u001b[38;5;241m=\u001b[39m _MergeOperation(\n\u001b[1;32m    171\u001b[0m         left_df,\n\u001b[1;32m    172\u001b[0m         right_df,\n\u001b[0;32m   (...)\u001b[0m\n\u001b[1;32m    182\u001b[0m         validate\u001b[38;5;241m=\u001b[39mvalidate,\n\u001b[1;32m    183\u001b[0m     )\n\u001b[0;32m--> 184\u001b[0m     \u001b[38;5;28;01mreturn\u001b[39;00m \u001b[43mop\u001b[49m\u001b[38;5;241;43m.\u001b[39;49m\u001b[43mget_result\u001b[49m\u001b[43m(\u001b[49m\u001b[43mcopy\u001b[49m\u001b[38;5;241;43m=\u001b[39;49m\u001b[43mcopy\u001b[49m\u001b[43m)\u001b[49m\n",
      "File \u001b[0;32m~/Library/Caches/pypoetry/virtualenvs/llms-for-ts-nVlTfn4V-py3.9/lib/python3.9/site-packages/pandas/core/reshape/merge.py:888\u001b[0m, in \u001b[0;36m_MergeOperation.get_result\u001b[0;34m(self, copy)\u001b[0m\n\u001b[1;32m    884\u001b[0m     \u001b[38;5;28mself\u001b[39m\u001b[38;5;241m.\u001b[39mleft, \u001b[38;5;28mself\u001b[39m\u001b[38;5;241m.\u001b[39mright \u001b[38;5;241m=\u001b[39m \u001b[38;5;28mself\u001b[39m\u001b[38;5;241m.\u001b[39m_indicator_pre_merge(\u001b[38;5;28mself\u001b[39m\u001b[38;5;241m.\u001b[39mleft, \u001b[38;5;28mself\u001b[39m\u001b[38;5;241m.\u001b[39mright)\n\u001b[1;32m    886\u001b[0m join_index, left_indexer, right_indexer \u001b[38;5;241m=\u001b[39m \u001b[38;5;28mself\u001b[39m\u001b[38;5;241m.\u001b[39m_get_join_info()\n\u001b[0;32m--> 888\u001b[0m result \u001b[38;5;241m=\u001b[39m \u001b[38;5;28;43mself\u001b[39;49m\u001b[38;5;241;43m.\u001b[39;49m\u001b[43m_reindex_and_concat\u001b[49m\u001b[43m(\u001b[49m\n\u001b[1;32m    889\u001b[0m \u001b[43m    \u001b[49m\u001b[43mjoin_index\u001b[49m\u001b[43m,\u001b[49m\u001b[43m \u001b[49m\u001b[43mleft_indexer\u001b[49m\u001b[43m,\u001b[49m\u001b[43m \u001b[49m\u001b[43mright_indexer\u001b[49m\u001b[43m,\u001b[49m\u001b[43m \u001b[49m\u001b[43mcopy\u001b[49m\u001b[38;5;241;43m=\u001b[39;49m\u001b[43mcopy\u001b[49m\n\u001b[1;32m    890\u001b[0m \u001b[43m\u001b[49m\u001b[43m)\u001b[49m\n\u001b[1;32m    891\u001b[0m result \u001b[38;5;241m=\u001b[39m result\u001b[38;5;241m.\u001b[39m__finalize__(\u001b[38;5;28mself\u001b[39m, method\u001b[38;5;241m=\u001b[39m\u001b[38;5;28mself\u001b[39m\u001b[38;5;241m.\u001b[39m_merge_type)\n\u001b[1;32m    893\u001b[0m \u001b[38;5;28;01mif\u001b[39;00m \u001b[38;5;28mself\u001b[39m\u001b[38;5;241m.\u001b[39mindicator:\n",
      "File \u001b[0;32m~/Library/Caches/pypoetry/virtualenvs/llms-for-ts-nVlTfn4V-py3.9/lib/python3.9/site-packages/pandas/core/reshape/merge.py:879\u001b[0m, in \u001b[0;36m_MergeOperation._reindex_and_concat\u001b[0;34m(self, join_index, left_indexer, right_indexer, copy)\u001b[0m\n\u001b[1;32m    877\u001b[0m left\u001b[38;5;241m.\u001b[39mcolumns \u001b[38;5;241m=\u001b[39m llabels\n\u001b[1;32m    878\u001b[0m right\u001b[38;5;241m.\u001b[39mcolumns \u001b[38;5;241m=\u001b[39m rlabels\n\u001b[0;32m--> 879\u001b[0m result \u001b[38;5;241m=\u001b[39m \u001b[43mconcat\u001b[49m\u001b[43m(\u001b[49m\u001b[43m[\u001b[49m\u001b[43mleft\u001b[49m\u001b[43m,\u001b[49m\u001b[43m \u001b[49m\u001b[43mright\u001b[49m\u001b[43m]\u001b[49m\u001b[43m,\u001b[49m\u001b[43m \u001b[49m\u001b[43maxis\u001b[49m\u001b[38;5;241;43m=\u001b[39;49m\u001b[38;5;241;43m1\u001b[39;49m\u001b[43m,\u001b[49m\u001b[43m \u001b[49m\u001b[43mcopy\u001b[49m\u001b[38;5;241;43m=\u001b[39;49m\u001b[43mcopy\u001b[49m\u001b[43m)\u001b[49m\n\u001b[1;32m    880\u001b[0m \u001b[38;5;28;01mreturn\u001b[39;00m result\n",
      "File \u001b[0;32m~/Library/Caches/pypoetry/virtualenvs/llms-for-ts-nVlTfn4V-py3.9/lib/python3.9/site-packages/pandas/core/reshape/concat.py:395\u001b[0m, in \u001b[0;36mconcat\u001b[0;34m(objs, axis, join, ignore_index, keys, levels, names, verify_integrity, sort, copy)\u001b[0m\n\u001b[1;32m    380\u001b[0m     copy \u001b[38;5;241m=\u001b[39m \u001b[38;5;28;01mFalse\u001b[39;00m\n\u001b[1;32m    382\u001b[0m op \u001b[38;5;241m=\u001b[39m _Concatenator(\n\u001b[1;32m    383\u001b[0m     objs,\n\u001b[1;32m    384\u001b[0m     axis\u001b[38;5;241m=\u001b[39maxis,\n\u001b[0;32m   (...)\u001b[0m\n\u001b[1;32m    392\u001b[0m     sort\u001b[38;5;241m=\u001b[39msort,\n\u001b[1;32m    393\u001b[0m )\n\u001b[0;32m--> 395\u001b[0m \u001b[38;5;28;01mreturn\u001b[39;00m \u001b[43mop\u001b[49m\u001b[38;5;241;43m.\u001b[39;49m\u001b[43mget_result\u001b[49m\u001b[43m(\u001b[49m\u001b[43m)\u001b[49m\n",
      "File \u001b[0;32m~/Library/Caches/pypoetry/virtualenvs/llms-for-ts-nVlTfn4V-py3.9/lib/python3.9/site-packages/pandas/core/reshape/concat.py:684\u001b[0m, in \u001b[0;36m_Concatenator.get_result\u001b[0;34m(self)\u001b[0m\n\u001b[1;32m    680\u001b[0m             indexers[ax] \u001b[38;5;241m=\u001b[39m obj_labels\u001b[38;5;241m.\u001b[39mget_indexer(new_labels)\n\u001b[1;32m    682\u001b[0m     mgrs_indexers\u001b[38;5;241m.\u001b[39mappend((obj\u001b[38;5;241m.\u001b[39m_mgr, indexers))\n\u001b[0;32m--> 684\u001b[0m new_data \u001b[38;5;241m=\u001b[39m \u001b[43mconcatenate_managers\u001b[49m\u001b[43m(\u001b[49m\n\u001b[1;32m    685\u001b[0m \u001b[43m    \u001b[49m\u001b[43mmgrs_indexers\u001b[49m\u001b[43m,\u001b[49m\u001b[43m \u001b[49m\u001b[38;5;28;43mself\u001b[39;49m\u001b[38;5;241;43m.\u001b[39;49m\u001b[43mnew_axes\u001b[49m\u001b[43m,\u001b[49m\u001b[43m \u001b[49m\u001b[43mconcat_axis\u001b[49m\u001b[38;5;241;43m=\u001b[39;49m\u001b[38;5;28;43mself\u001b[39;49m\u001b[38;5;241;43m.\u001b[39;49m\u001b[43mbm_axis\u001b[49m\u001b[43m,\u001b[49m\u001b[43m \u001b[49m\u001b[43mcopy\u001b[49m\u001b[38;5;241;43m=\u001b[39;49m\u001b[38;5;28;43mself\u001b[39;49m\u001b[38;5;241;43m.\u001b[39;49m\u001b[43mcopy\u001b[49m\n\u001b[1;32m    686\u001b[0m \u001b[43m\u001b[49m\u001b[43m)\u001b[49m\n\u001b[1;32m    687\u001b[0m \u001b[38;5;28;01mif\u001b[39;00m \u001b[38;5;129;01mnot\u001b[39;00m \u001b[38;5;28mself\u001b[39m\u001b[38;5;241m.\u001b[39mcopy \u001b[38;5;129;01mand\u001b[39;00m \u001b[38;5;129;01mnot\u001b[39;00m using_copy_on_write():\n\u001b[1;32m    688\u001b[0m     new_data\u001b[38;5;241m.\u001b[39m_consolidate_inplace()\n",
      "File \u001b[0;32m~/Library/Caches/pypoetry/virtualenvs/llms-for-ts-nVlTfn4V-py3.9/lib/python3.9/site-packages/pandas/core/internals/concat.py:131\u001b[0m, in \u001b[0;36mconcatenate_managers\u001b[0;34m(mgrs_indexers, axes, concat_axis, copy)\u001b[0m\n\u001b[1;32m    124\u001b[0m \u001b[38;5;66;03m# Assertions disabled for performance\u001b[39;00m\n\u001b[1;32m    125\u001b[0m \u001b[38;5;66;03m# for tup in mgrs_indexers:\u001b[39;00m\n\u001b[1;32m    126\u001b[0m \u001b[38;5;66;03m#    # caller is responsible for ensuring this\u001b[39;00m\n\u001b[1;32m    127\u001b[0m \u001b[38;5;66;03m#    indexers = tup[1]\u001b[39;00m\n\u001b[1;32m    128\u001b[0m \u001b[38;5;66;03m#    assert concat_axis not in indexers\u001b[39;00m\n\u001b[1;32m    130\u001b[0m \u001b[38;5;28;01mif\u001b[39;00m concat_axis \u001b[38;5;241m==\u001b[39m \u001b[38;5;241m0\u001b[39m:\n\u001b[0;32m--> 131\u001b[0m     mgrs \u001b[38;5;241m=\u001b[39m \u001b[43m_maybe_reindex_columns_na_proxy\u001b[49m\u001b[43m(\u001b[49m\u001b[43maxes\u001b[49m\u001b[43m,\u001b[49m\u001b[43m \u001b[49m\u001b[43mmgrs_indexers\u001b[49m\u001b[43m,\u001b[49m\u001b[43m \u001b[49m\u001b[43mneeds_copy\u001b[49m\u001b[43m)\u001b[49m\n\u001b[1;32m    132\u001b[0m     \u001b[38;5;28;01mreturn\u001b[39;00m mgrs[\u001b[38;5;241m0\u001b[39m]\u001b[38;5;241m.\u001b[39mconcat_horizontal(mgrs, axes)\n\u001b[1;32m    134\u001b[0m \u001b[38;5;28;01mif\u001b[39;00m \u001b[38;5;28mlen\u001b[39m(mgrs_indexers) \u001b[38;5;241m>\u001b[39m \u001b[38;5;241m0\u001b[39m \u001b[38;5;129;01mand\u001b[39;00m mgrs_indexers[\u001b[38;5;241m0\u001b[39m][\u001b[38;5;241m0\u001b[39m]\u001b[38;5;241m.\u001b[39mnblocks \u001b[38;5;241m>\u001b[39m \u001b[38;5;241m0\u001b[39m:\n",
      "File \u001b[0;32m~/Library/Caches/pypoetry/virtualenvs/llms-for-ts-nVlTfn4V-py3.9/lib/python3.9/site-packages/pandas/core/internals/concat.py:230\u001b[0m, in \u001b[0;36m_maybe_reindex_columns_na_proxy\u001b[0;34m(axes, mgrs_indexers, needs_copy)\u001b[0m\n\u001b[1;32m    220\u001b[0m         mgr \u001b[38;5;241m=\u001b[39m mgr\u001b[38;5;241m.\u001b[39mreindex_indexer(\n\u001b[1;32m    221\u001b[0m             axes[i],\n\u001b[1;32m    222\u001b[0m             indexers[i],\n\u001b[0;32m   (...)\u001b[0m\n\u001b[1;32m    227\u001b[0m             use_na_proxy\u001b[38;5;241m=\u001b[39m\u001b[38;5;28;01mTrue\u001b[39;00m,  \u001b[38;5;66;03m# only relevant for i==0\u001b[39;00m\n\u001b[1;32m    228\u001b[0m         )\n\u001b[1;32m    229\u001b[0m     \u001b[38;5;28;01mif\u001b[39;00m needs_copy \u001b[38;5;129;01mand\u001b[39;00m \u001b[38;5;129;01mnot\u001b[39;00m indexers:\n\u001b[0;32m--> 230\u001b[0m         mgr \u001b[38;5;241m=\u001b[39m \u001b[43mmgr\u001b[49m\u001b[38;5;241;43m.\u001b[39;49m\u001b[43mcopy\u001b[49m\u001b[43m(\u001b[49m\u001b[43m)\u001b[49m\n\u001b[1;32m    232\u001b[0m     new_mgrs\u001b[38;5;241m.\u001b[39mappend(mgr)\n\u001b[1;32m    233\u001b[0m \u001b[38;5;28;01mreturn\u001b[39;00m new_mgrs\n",
      "File \u001b[0;32m~/Library/Caches/pypoetry/virtualenvs/llms-for-ts-nVlTfn4V-py3.9/lib/python3.9/site-packages/pandas/core/internals/managers.py:604\u001b[0m, in \u001b[0;36mBaseBlockManager.copy\u001b[0;34m(self, deep)\u001b[0m\n\u001b[1;32m    601\u001b[0m         res\u001b[38;5;241m.\u001b[39m_blklocs \u001b[38;5;241m=\u001b[39m \u001b[38;5;28mself\u001b[39m\u001b[38;5;241m.\u001b[39m_blklocs\u001b[38;5;241m.\u001b[39mcopy()\n\u001b[1;32m    603\u001b[0m \u001b[38;5;28;01mif\u001b[39;00m deep:\n\u001b[0;32m--> 604\u001b[0m     \u001b[43mres\u001b[49m\u001b[38;5;241;43m.\u001b[39;49m\u001b[43m_consolidate_inplace\u001b[49m\u001b[43m(\u001b[49m\u001b[43m)\u001b[49m\n\u001b[1;32m    605\u001b[0m \u001b[38;5;28;01mreturn\u001b[39;00m res\n",
      "File \u001b[0;32m~/Library/Caches/pypoetry/virtualenvs/llms-for-ts-nVlTfn4V-py3.9/lib/python3.9/site-packages/pandas/core/internals/managers.py:1788\u001b[0m, in \u001b[0;36mBlockManager._consolidate_inplace\u001b[0;34m(self)\u001b[0m\n\u001b[1;32m   1782\u001b[0m \u001b[38;5;28;01mdef\u001b[39;00m \u001b[38;5;21m_consolidate_inplace\u001b[39m(\u001b[38;5;28mself\u001b[39m) \u001b[38;5;241m-\u001b[39m\u001b[38;5;241m>\u001b[39m \u001b[38;5;28;01mNone\u001b[39;00m:\n\u001b[1;32m   1783\u001b[0m     \u001b[38;5;66;03m# In general, _consolidate_inplace should only be called via\u001b[39;00m\n\u001b[1;32m   1784\u001b[0m     \u001b[38;5;66;03m#  DataFrame._consolidate_inplace, otherwise we will fail to invalidate\u001b[39;00m\n\u001b[1;32m   1785\u001b[0m     \u001b[38;5;66;03m#  the DataFrame's _item_cache. The exception is for newly-created\u001b[39;00m\n\u001b[1;32m   1786\u001b[0m     \u001b[38;5;66;03m#  BlockManager objects not yet attached to a DataFrame.\u001b[39;00m\n\u001b[1;32m   1787\u001b[0m     \u001b[38;5;28;01mif\u001b[39;00m \u001b[38;5;129;01mnot\u001b[39;00m \u001b[38;5;28mself\u001b[39m\u001b[38;5;241m.\u001b[39mis_consolidated():\n\u001b[0;32m-> 1788\u001b[0m         \u001b[38;5;28mself\u001b[39m\u001b[38;5;241m.\u001b[39mblocks \u001b[38;5;241m=\u001b[39m \u001b[43m_consolidate\u001b[49m\u001b[43m(\u001b[49m\u001b[38;5;28;43mself\u001b[39;49m\u001b[38;5;241;43m.\u001b[39;49m\u001b[43mblocks\u001b[49m\u001b[43m)\u001b[49m\n\u001b[1;32m   1789\u001b[0m         \u001b[38;5;28mself\u001b[39m\u001b[38;5;241m.\u001b[39m_is_consolidated \u001b[38;5;241m=\u001b[39m \u001b[38;5;28;01mTrue\u001b[39;00m\n\u001b[1;32m   1790\u001b[0m         \u001b[38;5;28mself\u001b[39m\u001b[38;5;241m.\u001b[39m_known_consolidated \u001b[38;5;241m=\u001b[39m \u001b[38;5;28;01mTrue\u001b[39;00m\n",
      "File \u001b[0;32m~/Library/Caches/pypoetry/virtualenvs/llms-for-ts-nVlTfn4V-py3.9/lib/python3.9/site-packages/pandas/core/internals/managers.py:2269\u001b[0m, in \u001b[0;36m_consolidate\u001b[0;34m(blocks)\u001b[0m\n\u001b[1;32m   2267\u001b[0m new_blocks: \u001b[38;5;28mlist\u001b[39m[Block] \u001b[38;5;241m=\u001b[39m []\n\u001b[1;32m   2268\u001b[0m \u001b[38;5;28;01mfor\u001b[39;00m (_can_consolidate, dtype), group_blocks \u001b[38;5;129;01min\u001b[39;00m grouper:\n\u001b[0;32m-> 2269\u001b[0m     merged_blocks, _ \u001b[38;5;241m=\u001b[39m \u001b[43m_merge_blocks\u001b[49m\u001b[43m(\u001b[49m\n\u001b[1;32m   2270\u001b[0m \u001b[43m        \u001b[49m\u001b[38;5;28;43mlist\u001b[39;49m\u001b[43m(\u001b[49m\u001b[43mgroup_blocks\u001b[49m\u001b[43m)\u001b[49m\u001b[43m,\u001b[49m\u001b[43m \u001b[49m\u001b[43mdtype\u001b[49m\u001b[38;5;241;43m=\u001b[39;49m\u001b[43mdtype\u001b[49m\u001b[43m,\u001b[49m\u001b[43m \u001b[49m\u001b[43mcan_consolidate\u001b[49m\u001b[38;5;241;43m=\u001b[39;49m\u001b[43m_can_consolidate\u001b[49m\n\u001b[1;32m   2271\u001b[0m \u001b[43m    \u001b[49m\u001b[43m)\u001b[49m\n\u001b[1;32m   2272\u001b[0m     new_blocks \u001b[38;5;241m=\u001b[39m extend_blocks(merged_blocks, new_blocks)\n\u001b[1;32m   2273\u001b[0m \u001b[38;5;28;01mreturn\u001b[39;00m \u001b[38;5;28mtuple\u001b[39m(new_blocks)\n",
      "File \u001b[0;32m~/Library/Caches/pypoetry/virtualenvs/llms-for-ts-nVlTfn4V-py3.9/lib/python3.9/site-packages/pandas/core/internals/managers.py:2294\u001b[0m, in \u001b[0;36m_merge_blocks\u001b[0;34m(blocks, dtype, can_consolidate)\u001b[0m\n\u001b[1;32m   2287\u001b[0m new_values: ArrayLike\n\u001b[1;32m   2289\u001b[0m \u001b[38;5;28;01mif\u001b[39;00m \u001b[38;5;28misinstance\u001b[39m(blocks[\u001b[38;5;241m0\u001b[39m]\u001b[38;5;241m.\u001b[39mdtype, np\u001b[38;5;241m.\u001b[39mdtype):\n\u001b[1;32m   2290\u001b[0m     \u001b[38;5;66;03m# error: List comprehension has incompatible type List[Union[ndarray,\u001b[39;00m\n\u001b[1;32m   2291\u001b[0m     \u001b[38;5;66;03m# ExtensionArray]]; expected List[Union[complex, generic,\u001b[39;00m\n\u001b[1;32m   2292\u001b[0m     \u001b[38;5;66;03m# Sequence[Union[int, float, complex, str, bytes, generic]],\u001b[39;00m\n\u001b[1;32m   2293\u001b[0m     \u001b[38;5;66;03m# Sequence[Sequence[Any]], SupportsArray]]\u001b[39;00m\n\u001b[0;32m-> 2294\u001b[0m     new_values \u001b[38;5;241m=\u001b[39m \u001b[43mnp\u001b[49m\u001b[38;5;241;43m.\u001b[39;49m\u001b[43mvstack\u001b[49m\u001b[43m(\u001b[49m\u001b[43m[\u001b[49m\u001b[43mb\u001b[49m\u001b[38;5;241;43m.\u001b[39;49m\u001b[43mvalues\u001b[49m\u001b[43m \u001b[49m\u001b[38;5;28;43;01mfor\u001b[39;49;00m\u001b[43m \u001b[49m\u001b[43mb\u001b[49m\u001b[43m \u001b[49m\u001b[38;5;129;43;01min\u001b[39;49;00m\u001b[43m \u001b[49m\u001b[43mblocks\u001b[49m\u001b[43m]\u001b[49m\u001b[43m)\u001b[49m  \u001b[38;5;66;03m# type: ignore[misc]\u001b[39;00m\n\u001b[1;32m   2295\u001b[0m \u001b[38;5;28;01melse\u001b[39;00m:\n\u001b[1;32m   2296\u001b[0m     bvals \u001b[38;5;241m=\u001b[39m [blk\u001b[38;5;241m.\u001b[39mvalues \u001b[38;5;28;01mfor\u001b[39;00m blk \u001b[38;5;129;01min\u001b[39;00m blocks]\n",
      "File \u001b[0;32m~/Library/Caches/pypoetry/virtualenvs/llms-for-ts-nVlTfn4V-py3.9/lib/python3.9/site-packages/numpy/core/shape_base.py:289\u001b[0m, in \u001b[0;36mvstack\u001b[0;34m(tup, dtype, casting)\u001b[0m\n\u001b[1;32m    287\u001b[0m \u001b[38;5;28;01mif\u001b[39;00m \u001b[38;5;129;01mnot\u001b[39;00m \u001b[38;5;28misinstance\u001b[39m(arrs, \u001b[38;5;28mlist\u001b[39m):\n\u001b[1;32m    288\u001b[0m     arrs \u001b[38;5;241m=\u001b[39m [arrs]\n\u001b[0;32m--> 289\u001b[0m \u001b[38;5;28;01mreturn\u001b[39;00m \u001b[43m_nx\u001b[49m\u001b[38;5;241;43m.\u001b[39;49m\u001b[43mconcatenate\u001b[49m\u001b[43m(\u001b[49m\u001b[43marrs\u001b[49m\u001b[43m,\u001b[49m\u001b[43m \u001b[49m\u001b[38;5;241;43m0\u001b[39;49m\u001b[43m,\u001b[49m\u001b[43m \u001b[49m\u001b[43mdtype\u001b[49m\u001b[38;5;241;43m=\u001b[39;49m\u001b[43mdtype\u001b[49m\u001b[43m,\u001b[49m\u001b[43m \u001b[49m\u001b[43mcasting\u001b[49m\u001b[38;5;241;43m=\u001b[39;49m\u001b[43mcasting\u001b[49m\u001b[43m)\u001b[49m\n",
      "\u001b[0;31mKeyboardInterrupt\u001b[0m: "
     ]
    }
   ],
   "source": [
    "mm = M5Dataset('data/raw/m5')\n",
    "\n",
    "for el in mm.process('base', batch_size=64, chunksize=1, window_size=24, target_size=1):\n",
    "    print(el)\n",
    "    break"
   ]
  },
  {
   "cell_type": "markdown",
   "metadata": {},
   "source": [
    "# Testing M4"
   ]
  },
  {
   "cell_type": "code",
   "execution_count": 40,
   "metadata": {},
   "outputs": [],
   "source": [
    "dataset = M4Dataset('data/raw/m4-monthly')"
   ]
  },
  {
   "cell_type": "code",
   "execution_count": 41,
   "metadata": {},
   "outputs": [
    {
     "name": "stdout",
     "output_type": "stream",
     "text": [
      "(['8000.0 8350.0 8570.0 7700.0 7080.0 6520.0 6070.0 6650.0 6830.0 5710.0 5260.0 5470.0 7870.0 7360.0 8470.0 7880.0 6750.0 6860.0 6220.0 6650.0 5450.0 5280.0 4970.0 5550.0 ', '8350.0 8570.0 7700.0 7080.0 6520.0 6070.0 6650.0 6830.0 5710.0 5260.0 5470.0 7870.0 7360.0 8470.0 7880.0 6750.0 6860.0 6220.0 6650.0 5450.0 5280.0 4970.0 5550.0 7750.0 ', '8570.0 7700.0 7080.0 6520.0 6070.0 6650.0 6830.0 5710.0 5260.0 5470.0 7870.0 7360.0 8470.0 7880.0 6750.0 6860.0 6220.0 6650.0 5450.0 5280.0 4970.0 5550.0 7750.0 7760.0 ', '7700.0 7080.0 6520.0 6070.0 6650.0 6830.0 5710.0 5260.0 5470.0 7870.0 7360.0 8470.0 7880.0 6750.0 6860.0 6220.0 6650.0 5450.0 5280.0 4970.0 5550.0 7750.0 7760.0 7190.0 ', '7080.0 6520.0 6070.0 6650.0 6830.0 5710.0 5260.0 5470.0 7870.0 7360.0 8470.0 7880.0 6750.0 6860.0 6220.0 6650.0 5450.0 5280.0 4970.0 5550.0 7750.0 7760.0 7190.0 7440.0 ', '6520.0 6070.0 6650.0 6830.0 5710.0 5260.0 5470.0 7870.0 7360.0 8470.0 7880.0 6750.0 6860.0 6220.0 6650.0 5450.0 5280.0 4970.0 5550.0 7750.0 7760.0 7190.0 7440.0 6590.0 ', '6070.0 6650.0 6830.0 5710.0 5260.0 5470.0 7870.0 7360.0 8470.0 7880.0 6750.0 6860.0 6220.0 6650.0 5450.0 5280.0 4970.0 5550.0 7750.0 7760.0 7190.0 7440.0 6590.0 6210.0 ', '6650.0 6830.0 5710.0 5260.0 5470.0 7870.0 7360.0 8470.0 7880.0 6750.0 6860.0 6220.0 6650.0 5450.0 5280.0 4970.0 5550.0 7750.0 7760.0 7190.0 7440.0 6590.0 6210.0 6010.0 ', '6830.0 5710.0 5260.0 5470.0 7870.0 7360.0 8470.0 7880.0 6750.0 6860.0 6220.0 6650.0 5450.0 5280.0 4970.0 5550.0 7750.0 7760.0 7190.0 7440.0 6590.0 6210.0 6010.0 6390.0 ', '5710.0 5260.0 5470.0 7870.0 7360.0 8470.0 7880.0 6750.0 6860.0 6220.0 6650.0 5450.0 5280.0 4970.0 5550.0 7750.0 7760.0 7190.0 7440.0 6590.0 6210.0 6010.0 6390.0 5780.0 ', '5260.0 5470.0 7870.0 7360.0 8470.0 7880.0 6750.0 6860.0 6220.0 6650.0 5450.0 5280.0 4970.0 5550.0 7750.0 7760.0 7190.0 7440.0 6590.0 6210.0 6010.0 6390.0 5780.0 5700.0 ', '5470.0 7870.0 7360.0 8470.0 7880.0 6750.0 6860.0 6220.0 6650.0 5450.0 5280.0 4970.0 5550.0 7750.0 7760.0 7190.0 7440.0 6590.0 6210.0 6010.0 6390.0 5780.0 5700.0 4680.0 ', '7870.0 7360.0 8470.0 7880.0 6750.0 6860.0 6220.0 6650.0 5450.0 5280.0 4970.0 5550.0 7750.0 7760.0 7190.0 7440.0 6590.0 6210.0 6010.0 6390.0 5780.0 5700.0 4680.0 4970.0 ', '7360.0 8470.0 7880.0 6750.0 6860.0 6220.0 6650.0 5450.0 5280.0 4970.0 5550.0 7750.0 7760.0 7190.0 7440.0 6590.0 6210.0 6010.0 6390.0 5780.0 5700.0 4680.0 4970.0 6850.0 ', '8470.0 7880.0 6750.0 6860.0 6220.0 6650.0 5450.0 5280.0 4970.0 5550.0 7750.0 7760.0 7190.0 7440.0 6590.0 6210.0 6010.0 6390.0 5780.0 5700.0 4680.0 4970.0 6850.0 6740.0 ', '7880.0 6750.0 6860.0 6220.0 6650.0 5450.0 5280.0 4970.0 5550.0 7750.0 7760.0 7190.0 7440.0 6590.0 6210.0 6010.0 6390.0 5780.0 5700.0 4680.0 4970.0 6850.0 6740.0 7490.0 ', '6750.0 6860.0 6220.0 6650.0 5450.0 5280.0 4970.0 5550.0 7750.0 7760.0 7190.0 7440.0 6590.0 6210.0 6010.0 6390.0 5780.0 5700.0 4680.0 4970.0 6850.0 6740.0 7490.0 6250.0 ', '6860.0 6220.0 6650.0 5450.0 5280.0 4970.0 5550.0 7750.0 7760.0 7190.0 7440.0 6590.0 6210.0 6010.0 6390.0 5780.0 5700.0 4680.0 4970.0 6850.0 6740.0 7490.0 6250.0 6900.0 ', '6220.0 6650.0 5450.0 5280.0 4970.0 5550.0 7750.0 7760.0 7190.0 7440.0 6590.0 6210.0 6010.0 6390.0 5780.0 5700.0 4680.0 4970.0 6850.0 6740.0 7490.0 6250.0 6900.0 5870.0 ', '6650.0 5450.0 5280.0 4970.0 5550.0 7750.0 7760.0 7190.0 7440.0 6590.0 6210.0 6010.0 6390.0 5780.0 5700.0 4680.0 4970.0 6850.0 6740.0 7490.0 6250.0 6900.0 5870.0 5610.0 ', '5450.0 5280.0 4970.0 5550.0 7750.0 7760.0 7190.0 7440.0 6590.0 6210.0 6010.0 6390.0 5780.0 5700.0 4680.0 4970.0 6850.0 6740.0 7490.0 6250.0 6900.0 5870.0 5610.0 6310.0 ', '5280.0 4970.0 5550.0 7750.0 7760.0 7190.0 7440.0 6590.0 6210.0 6010.0 6390.0 5780.0 5700.0 4680.0 4970.0 6850.0 6740.0 7490.0 6250.0 6900.0 5870.0 5610.0 6310.0 6110.0 ', '4970.0 5550.0 7750.0 7760.0 7190.0 7440.0 6590.0 6210.0 6010.0 6390.0 5780.0 5700.0 4680.0 4970.0 6850.0 6740.0 7490.0 6250.0 6900.0 5870.0 5610.0 6310.0 6110.0 6090.0 ', '5550.0 7750.0 7760.0 7190.0 7440.0 6590.0 6210.0 6010.0 6390.0 5780.0 5700.0 4680.0 4970.0 6850.0 6740.0 7490.0 6250.0 6900.0 5870.0 5610.0 6310.0 6110.0 6090.0 5810.0 ', '7750.0 7760.0 7190.0 7440.0 6590.0 6210.0 6010.0 6390.0 5780.0 5700.0 4680.0 4970.0 6850.0 6740.0 7490.0 6250.0 6900.0 5870.0 5610.0 6310.0 6110.0 6090.0 5810.0 6060.0 ', '7760.0 7190.0 7440.0 6590.0 6210.0 6010.0 6390.0 5780.0 5700.0 4680.0 4970.0 6850.0 6740.0 7490.0 6250.0 6900.0 5870.0 5610.0 6310.0 6110.0 6090.0 5810.0 6060.0 6950.0 ', '7190.0 7440.0 6590.0 6210.0 6010.0 6390.0 5780.0 5700.0 4680.0 4970.0 6850.0 6740.0 7490.0 6250.0 6900.0 5870.0 5610.0 6310.0 6110.0 6090.0 5810.0 6060.0 6950.0 7820.0 ', '7440.0 6590.0 6210.0 6010.0 6390.0 5780.0 5700.0 4680.0 4970.0 6850.0 6740.0 7490.0 6250.0 6900.0 5870.0 5610.0 6310.0 6110.0 6090.0 5810.0 6060.0 6950.0 7820.0 8270.0 ', '6590.0 6210.0 6010.0 6390.0 5780.0 5700.0 4680.0 4970.0 6850.0 6740.0 7490.0 6250.0 6900.0 5870.0 5610.0 6310.0 6110.0 6090.0 5810.0 6060.0 6950.0 7820.0 8270.0 7840.0 ', '6210.0 6010.0 6390.0 5780.0 5700.0 4680.0 4970.0 6850.0 6740.0 7490.0 6250.0 6900.0 5870.0 5610.0 6310.0 6110.0 6090.0 5810.0 6060.0 6950.0 7820.0 8270.0 7840.0 7850.0 ', '6010.0 6390.0 5780.0 5700.0 4680.0 4970.0 6850.0 6740.0 7490.0 6250.0 6900.0 5870.0 5610.0 6310.0 6110.0 6090.0 5810.0 6060.0 6950.0 7820.0 8270.0 7840.0 7850.0 6710.0 ', '6390.0 5780.0 5700.0 4680.0 4970.0 6850.0 6740.0 7490.0 6250.0 6900.0 5870.0 5610.0 6310.0 6110.0 6090.0 5810.0 6060.0 6950.0 7820.0 8270.0 7840.0 7850.0 6710.0 6220.0 ', '5780.0 5700.0 4680.0 4970.0 6850.0 6740.0 7490.0 6250.0 6900.0 5870.0 5610.0 6310.0 6110.0 6090.0 5810.0 6060.0 6950.0 7820.0 8270.0 7840.0 7850.0 6710.0 6220.0 7430.0 ', '5700.0 4680.0 4970.0 6850.0 6740.0 7490.0 6250.0 6900.0 5870.0 5610.0 6310.0 6110.0 6090.0 5810.0 6060.0 6950.0 7820.0 8270.0 7840.0 7850.0 6710.0 6220.0 7430.0 6560.0 ', '4680.0 4970.0 6850.0 6740.0 7490.0 6250.0 6900.0 5870.0 5610.0 6310.0 6110.0 6090.0 5810.0 6060.0 6950.0 7820.0 8270.0 7840.0 7850.0 6710.0 6220.0 7430.0 6560.0 7080.0 ', '4970.0 6850.0 6740.0 7490.0 6250.0 6900.0 5870.0 5610.0 6310.0 6110.0 6090.0 5810.0 6060.0 6950.0 7820.0 8270.0 7840.0 7850.0 6710.0 6220.0 7430.0 6560.0 7080.0 6680.0 ', '6850.0 6740.0 7490.0 6250.0 6900.0 5870.0 5610.0 6310.0 6110.0 6090.0 5810.0 6060.0 6950.0 7820.0 8270.0 7840.0 7850.0 6710.0 6220.0 7430.0 6560.0 7080.0 6680.0 6900.0 ', '6740.0 7490.0 6250.0 6900.0 5870.0 5610.0 6310.0 6110.0 6090.0 5810.0 6060.0 6950.0 7820.0 8270.0 7840.0 7850.0 6710.0 6220.0 7430.0 6560.0 7080.0 6680.0 6900.0 8680.0 ', '7490.0 6250.0 6900.0 5870.0 5610.0 6310.0 6110.0 6090.0 5810.0 6060.0 6950.0 7820.0 8270.0 7840.0 7850.0 6710.0 6220.0 7430.0 6560.0 7080.0 6680.0 6900.0 8680.0 8450.0 ', '6250.0 6900.0 5870.0 5610.0 6310.0 6110.0 6090.0 5810.0 6060.0 6950.0 7820.0 8270.0 7840.0 7850.0 6710.0 6220.0 7430.0 6560.0 7080.0 6680.0 6900.0 8680.0 8450.0 8670.0 ', '6900.0 5870.0 5610.0 6310.0 6110.0 6090.0 5810.0 6060.0 6950.0 7820.0 8270.0 7840.0 7850.0 6710.0 6220.0 7430.0 6560.0 7080.0 6680.0 6900.0 8680.0 8450.0 8670.0 8470.0 ', '5870.0 5610.0 6310.0 6110.0 6090.0 5810.0 6060.0 6950.0 7820.0 8270.0 7840.0 7850.0 6710.0 6220.0 7430.0 6560.0 7080.0 6680.0 6900.0 8680.0 8450.0 8670.0 8470.0 7910.0 ', '5610.0 6310.0 6110.0 6090.0 5810.0 6060.0 6950.0 7820.0 8270.0 7840.0 7850.0 6710.0 6220.0 7430.0 6560.0 7080.0 6680.0 6900.0 8680.0 8450.0 8670.0 8470.0 7910.0 8140.0 ', '6310.0 6110.0 6090.0 5810.0 6060.0 6950.0 7820.0 8270.0 7840.0 7850.0 6710.0 6220.0 7430.0 6560.0 7080.0 6680.0 6900.0 8680.0 8450.0 8670.0 8470.0 7910.0 8140.0 7310.0 ', '6110.0 6090.0 5810.0 6060.0 6950.0 7820.0 8270.0 7840.0 7850.0 6710.0 6220.0 7430.0 6560.0 7080.0 6680.0 6900.0 8680.0 8450.0 8670.0 8470.0 7910.0 8140.0 7310.0 7860.0 ', '6090.0 5810.0 6060.0 6950.0 7820.0 8270.0 7840.0 7850.0 6710.0 6220.0 7430.0 6560.0 7080.0 6680.0 6900.0 8680.0 8450.0 8670.0 8470.0 7910.0 8140.0 7310.0 7860.0 7730.0 ', '5810.0 6060.0 6950.0 7820.0 8270.0 7840.0 7850.0 6710.0 6220.0 7430.0 6560.0 7080.0 6680.0 6900.0 8680.0 8450.0 8670.0 8470.0 7910.0 8140.0 7310.0 7860.0 7730.0 7330.0 ', '6060.0 6950.0 7820.0 8270.0 7840.0 7850.0 6710.0 6220.0 7430.0 6560.0 7080.0 6680.0 6900.0 8680.0 8450.0 8670.0 8470.0 7910.0 8140.0 7310.0 7860.0 7730.0 7330.0 7430.0 ', '6950.0 7820.0 8270.0 7840.0 7850.0 6710.0 6220.0 7430.0 6560.0 7080.0 6680.0 6900.0 8680.0 8450.0 8670.0 8470.0 7910.0 8140.0 7310.0 7860.0 7730.0 7330.0 7430.0 7150.0 ', '7820.0 8270.0 7840.0 7850.0 6710.0 6220.0 7430.0 6560.0 7080.0 6680.0 6900.0 8680.0 8450.0 8670.0 8470.0 7910.0 8140.0 7310.0 7860.0 7730.0 7330.0 7430.0 7150.0 8720.0 ', '8270.0 7840.0 7850.0 6710.0 6220.0 7430.0 6560.0 7080.0 6680.0 6900.0 8680.0 8450.0 8670.0 8470.0 7910.0 8140.0 7310.0 7860.0 7730.0 7330.0 7430.0 7150.0 8720.0 8340.0 ', '7840.0 7850.0 6710.0 6220.0 7430.0 6560.0 7080.0 6680.0 6900.0 8680.0 8450.0 8670.0 8470.0 7910.0 8140.0 7310.0 7860.0 7730.0 7330.0 7430.0 7150.0 8720.0 8340.0 8840.0 ', '7850.0 6710.0 6220.0 7430.0 6560.0 7080.0 6680.0 6900.0 8680.0 8450.0 8670.0 8470.0 7910.0 8140.0 7310.0 7860.0 7730.0 7330.0 7430.0 7150.0 8720.0 8340.0 8840.0 8780.0 ', '6710.0 6220.0 7430.0 6560.0 7080.0 6680.0 6900.0 8680.0 8450.0 8670.0 8470.0 7910.0 8140.0 7310.0 7860.0 7730.0 7330.0 7430.0 7150.0 8720.0 8340.0 8840.0 8780.0 8250.0 ', '6220.0 7430.0 6560.0 7080.0 6680.0 6900.0 8680.0 8450.0 8670.0 8470.0 7910.0 8140.0 7310.0 7860.0 7730.0 7330.0 7430.0 7150.0 8720.0 8340.0 8840.0 8780.0 8250.0 8180.0 ', '7430.0 6560.0 7080.0 6680.0 6900.0 8680.0 8450.0 8670.0 8470.0 7910.0 8140.0 7310.0 7860.0 7730.0 7330.0 7430.0 7150.0 8720.0 8340.0 8840.0 8780.0 8250.0 8180.0 7570.0 ', '6560.0 7080.0 6680.0 6900.0 8680.0 8450.0 8670.0 8470.0 7910.0 8140.0 7310.0 7860.0 7730.0 7330.0 7430.0 7150.0 8720.0 8340.0 8840.0 8780.0 8250.0 8180.0 7570.0 9280.0 ', '7080.0 6680.0 6900.0 8680.0 8450.0 8670.0 8470.0 7910.0 8140.0 7310.0 7860.0 7730.0 7330.0 7430.0 7150.0 8720.0 8340.0 8840.0 8780.0 8250.0 8180.0 7570.0 9280.0 9220.0 ', '6680.0 6900.0 8680.0 8450.0 8670.0 8470.0 7910.0 8140.0 7310.0 7860.0 7730.0 7330.0 7430.0 7150.0 8720.0 8340.0 8840.0 8780.0 8250.0 8180.0 7570.0 9280.0 9220.0 9140.0 ', '6900.0 8680.0 8450.0 8670.0 8470.0 7910.0 8140.0 7310.0 7860.0 7730.0 7330.0 7430.0 7150.0 8720.0 8340.0 8840.0 8780.0 8250.0 8180.0 7570.0 9280.0 9220.0 9140.0 8950.0 ', '8680.0 8450.0 8670.0 8470.0 7910.0 8140.0 7310.0 7860.0 7730.0 7330.0 7430.0 7150.0 8720.0 8340.0 8840.0 8780.0 8250.0 8180.0 7570.0 9280.0 9220.0 9140.0 8950.0 8540.0 ', '8450.0 8670.0 8470.0 7910.0 8140.0 7310.0 7860.0 7730.0 7330.0 7430.0 7150.0 8720.0 8340.0 8840.0 8780.0 8250.0 8180.0 7570.0 9280.0 9220.0 9140.0 8950.0 8540.0 9360.0 ', '8670.0 8470.0 7910.0 8140.0 7310.0 7860.0 7730.0 7330.0 7430.0 7150.0 8720.0 8340.0 8840.0 8780.0 8250.0 8180.0 7570.0 9280.0 9220.0 9140.0 8950.0 8540.0 9360.0 9750.0 ', '8470.0 7910.0 8140.0 7310.0 7860.0 7730.0 7330.0 7430.0 7150.0 8720.0 8340.0 8840.0 8780.0 8250.0 8180.0 7570.0 9280.0 9220.0 9140.0 8950.0 8540.0 9360.0 9750.0 9270.0 '], [[7750.0], [7760.0], [7190.0], [7440.0], [6590.0], [6210.0], [6010.0], [6390.0], [5780.0], [5700.0], [4680.0], [4970.0], [6850.0], [6740.0], [7490.0], [6250.0], [6900.0], [5870.0], [5610.0], [6310.0], [6110.0], [6090.0], [5810.0], [6060.0], [6950.0], [7820.0], [8270.0], [7840.0], [7850.0], [6710.0], [6220.0], [7430.0], [6560.0], [7080.0], [6680.0], [6900.0], [8680.0], [8450.0], [8670.0], [8470.0], [7910.0], [8140.0], [7310.0], [7860.0], [7730.0], [7330.0], [7430.0], [7150.0], [8720.0], [8340.0], [8840.0], [8780.0], [8250.0], [8180.0], [7570.0], [9280.0], [9220.0], [9140.0], [8950.0], [8540.0], [9360.0], [9750.0], [9270.0], [8690.0]])\n"
     ]
    }
   ],
   "source": [
    "data_loader =  dataset.process('base', batch_size=64, chunksize=10, window_size=24, target_size=1, metadata=['V1'])\n",
    "for el in data_loader:\n",
    "    print(el)\n",
    "    break"
   ]
  },
  {
   "cell_type": "code",
   "execution_count": 48,
   "metadata": {},
   "outputs": [],
   "source": [
    "from src.features import DATASET_LOADERS\n",
    "\n",
    "data_loader = DATASET_LOADERS['GWT'].process(\n",
    "    'base',\n",
    "    target_size=1,\n",
    "    window_size=24,\n",
    "    batch_size=32,\n",
    "    chunksize=10\n",
    ")"
   ]
  },
  {
   "cell_type": "code",
   "execution_count": 49,
   "metadata": {},
   "outputs": [
    {
     "name": "stdout",
     "output_type": "stream",
     "text": [
      "(['18.0 11.0 5.0 13.0 14.0 9.0 9.0 22.0 26.0 24.0 19.0 10.0 14.0 15.0 8.0 16.0 8.0 8.0 16.0 7.0 11.0 10.0 20.0 18.0 ', '11.0 5.0 13.0 14.0 9.0 9.0 22.0 26.0 24.0 19.0 10.0 14.0 15.0 8.0 16.0 8.0 8.0 16.0 7.0 11.0 10.0 20.0 18.0 15.0 ', '5.0 13.0 14.0 9.0 9.0 22.0 26.0 24.0 19.0 10.0 14.0 15.0 8.0 16.0 8.0 8.0 16.0 7.0 11.0 10.0 20.0 18.0 15.0 14.0 ', '13.0 14.0 9.0 9.0 22.0 26.0 24.0 19.0 10.0 14.0 15.0 8.0 16.0 8.0 8.0 16.0 7.0 11.0 10.0 20.0 18.0 15.0 14.0 49.0 ', '14.0 9.0 9.0 22.0 26.0 24.0 19.0 10.0 14.0 15.0 8.0 16.0 8.0 8.0 16.0 7.0 11.0 10.0 20.0 18.0 15.0 14.0 49.0 10.0 ', '9.0 9.0 22.0 26.0 24.0 19.0 10.0 14.0 15.0 8.0 16.0 8.0 8.0 16.0 7.0 11.0 10.0 20.0 18.0 15.0 14.0 49.0 10.0 16.0 ', '9.0 22.0 26.0 24.0 19.0 10.0 14.0 15.0 8.0 16.0 8.0 8.0 16.0 7.0 11.0 10.0 20.0 18.0 15.0 14.0 49.0 10.0 16.0 18.0 ', '22.0 26.0 24.0 19.0 10.0 14.0 15.0 8.0 16.0 8.0 8.0 16.0 7.0 11.0 10.0 20.0 18.0 15.0 14.0 49.0 10.0 16.0 18.0 8.0 ', '26.0 24.0 19.0 10.0 14.0 15.0 8.0 16.0 8.0 8.0 16.0 7.0 11.0 10.0 20.0 18.0 15.0 14.0 49.0 10.0 16.0 18.0 8.0 5.0 ', '24.0 19.0 10.0 14.0 15.0 8.0 16.0 8.0 8.0 16.0 7.0 11.0 10.0 20.0 18.0 15.0 14.0 49.0 10.0 16.0 18.0 8.0 5.0 9.0 ', '19.0 10.0 14.0 15.0 8.0 16.0 8.0 8.0 16.0 7.0 11.0 10.0 20.0 18.0 15.0 14.0 49.0 10.0 16.0 18.0 8.0 5.0 9.0 7.0 ', '10.0 14.0 15.0 8.0 16.0 8.0 8.0 16.0 7.0 11.0 10.0 20.0 18.0 15.0 14.0 49.0 10.0 16.0 18.0 8.0 5.0 9.0 7.0 13.0 ', '14.0 15.0 8.0 16.0 8.0 8.0 16.0 7.0 11.0 10.0 20.0 18.0 15.0 14.0 49.0 10.0 16.0 18.0 8.0 5.0 9.0 7.0 13.0 9.0 ', '15.0 8.0 16.0 8.0 8.0 16.0 7.0 11.0 10.0 20.0 18.0 15.0 14.0 49.0 10.0 16.0 18.0 8.0 5.0 9.0 7.0 13.0 9.0 7.0 ', '8.0 16.0 8.0 8.0 16.0 7.0 11.0 10.0 20.0 18.0 15.0 14.0 49.0 10.0 16.0 18.0 8.0 5.0 9.0 7.0 13.0 9.0 7.0 4.0 ', '16.0 8.0 8.0 16.0 7.0 11.0 10.0 20.0 18.0 15.0 14.0 49.0 10.0 16.0 18.0 8.0 5.0 9.0 7.0 13.0 9.0 7.0 4.0 11.0 ', '8.0 8.0 16.0 7.0 11.0 10.0 20.0 18.0 15.0 14.0 49.0 10.0 16.0 18.0 8.0 5.0 9.0 7.0 13.0 9.0 7.0 4.0 11.0 10.0 ', '8.0 16.0 7.0 11.0 10.0 20.0 18.0 15.0 14.0 49.0 10.0 16.0 18.0 8.0 5.0 9.0 7.0 13.0 9.0 7.0 4.0 11.0 10.0 5.0 ', '16.0 7.0 11.0 10.0 20.0 18.0 15.0 14.0 49.0 10.0 16.0 18.0 8.0 5.0 9.0 7.0 13.0 9.0 7.0 4.0 11.0 10.0 5.0 9.0 ', '7.0 11.0 10.0 20.0 18.0 15.0 14.0 49.0 10.0 16.0 18.0 8.0 5.0 9.0 7.0 13.0 9.0 7.0 4.0 11.0 10.0 5.0 9.0 9.0 ', '11.0 10.0 20.0 18.0 15.0 14.0 49.0 10.0 16.0 18.0 8.0 5.0 9.0 7.0 13.0 9.0 7.0 4.0 11.0 10.0 5.0 9.0 9.0 9.0 ', '10.0 20.0 18.0 15.0 14.0 49.0 10.0 16.0 18.0 8.0 5.0 9.0 7.0 13.0 9.0 7.0 4.0 11.0 10.0 5.0 9.0 9.0 9.0 9.0 ', '20.0 18.0 15.0 14.0 49.0 10.0 16.0 18.0 8.0 5.0 9.0 7.0 13.0 9.0 7.0 4.0 11.0 10.0 5.0 9.0 9.0 9.0 9.0 13.0 ', '18.0 15.0 14.0 49.0 10.0 16.0 18.0 8.0 5.0 9.0 7.0 13.0 9.0 7.0 4.0 11.0 10.0 5.0 9.0 9.0 9.0 9.0 13.0 4.0 ', '15.0 14.0 49.0 10.0 16.0 18.0 8.0 5.0 9.0 7.0 13.0 9.0 7.0 4.0 11.0 10.0 5.0 9.0 9.0 9.0 9.0 13.0 4.0 15.0 ', '14.0 49.0 10.0 16.0 18.0 8.0 5.0 9.0 7.0 13.0 9.0 7.0 4.0 11.0 10.0 5.0 9.0 9.0 9.0 9.0 13.0 4.0 15.0 25.0 ', '49.0 10.0 16.0 18.0 8.0 5.0 9.0 7.0 13.0 9.0 7.0 4.0 11.0 10.0 5.0 9.0 9.0 9.0 9.0 13.0 4.0 15.0 25.0 9.0 ', '10.0 16.0 18.0 8.0 5.0 9.0 7.0 13.0 9.0 7.0 4.0 11.0 10.0 5.0 9.0 9.0 9.0 9.0 13.0 4.0 15.0 25.0 9.0 5.0 ', '16.0 18.0 8.0 5.0 9.0 7.0 13.0 9.0 7.0 4.0 11.0 10.0 5.0 9.0 9.0 9.0 9.0 13.0 4.0 15.0 25.0 9.0 5.0 6.0 ', '18.0 8.0 5.0 9.0 7.0 13.0 9.0 7.0 4.0 11.0 10.0 5.0 9.0 9.0 9.0 9.0 13.0 4.0 15.0 25.0 9.0 5.0 6.0 20.0 ', '8.0 5.0 9.0 7.0 13.0 9.0 7.0 4.0 11.0 10.0 5.0 9.0 9.0 9.0 9.0 13.0 4.0 15.0 25.0 9.0 5.0 6.0 20.0 3.0 ', '5.0 9.0 7.0 13.0 9.0 7.0 4.0 11.0 10.0 5.0 9.0 9.0 9.0 9.0 13.0 4.0 15.0 25.0 9.0 5.0 6.0 20.0 3.0 14.0 '], [[15.0], [14.0], [49.0], [10.0], [16.0], [18.0], [8.0], [5.0], [9.0], [7.0], [13.0], [9.0], [7.0], [4.0], [11.0], [10.0], [5.0], [9.0], [9.0], [9.0], [9.0], [13.0], [4.0], [15.0], [25.0], [9.0], [5.0], [6.0], [20.0], [3.0], [14.0], [46.0]])\n"
     ]
    }
   ],
   "source": [
    "for el in data_loader:\n",
    "    print(el)\n",
    "    break"
   ]
  },
  {
   "cell_type": "markdown",
   "metadata": {},
   "source": [
    "## ETTH"
   ]
  },
  {
   "cell_type": "code",
   "execution_count": null,
   "metadata": {},
   "outputs": [],
   "source": [
    "ds = ETTHDataset('data/raw/ETTh2/train.csv')"
   ]
  },
  {
   "cell_type": "code",
   "execution_count": null,
   "metadata": {},
   "outputs": [],
   "source": [
    "processed = ds.process('base', window_size=24, target_size=1)"
   ]
  },
  {
   "cell_type": "code",
   "execution_count": null,
   "metadata": {},
   "outputs": [],
   "source": [
    "len(processed)"
   ]
  },
  {
   "cell_type": "markdown",
   "metadata": {},
   "source": []
  },
  {
   "cell_type": "code",
   "execution_count": null,
   "metadata": {},
   "outputs": [],
   "source": [
    "import os\n",
    "last_downloaded = os.path.getmtime(dataset_folder)\n",
    "\n",
    "        # check if the dataset is updated\n",
    "        metadata = json.loads(api.dataset_metadata(dataset_ref))\n",
    "        last_updated = metadata['lastUpdated']"
   ]
  }
 ],
 "metadata": {
  "kernelspec": {
   "display_name": "llms-for-ts-nVlTfn4V-py3.9",
   "language": "python",
   "name": "python3"
  },
  "language_info": {
   "codemirror_mode": {
    "name": "ipython",
    "version": 3
   },
   "file_extension": ".py",
   "mimetype": "text/x-python",
   "name": "python",
   "nbconvert_exporter": "python",
   "pygments_lexer": "ipython3",
   "version": "3.1.-1"
  }
 },
 "nbformat": 4,
 "nbformat_minor": 2
}
